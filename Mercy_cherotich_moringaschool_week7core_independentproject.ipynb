{
  "nbformat": 4,
  "nbformat_minor": 0,
  "metadata": {
    "colab": {
      "name": "Mercy_cherotich_moringaschool_week7core_independentproject",
      "provenance": [],
      "collapsed_sections": [
        "kLG2VTrnTvYL",
        "XecOwPNorl2W",
        "J4wfHZwQrs-t",
        "a9BPYqunry97",
        "7KMRBJ7zr9HD",
        "zSGyg6kWsBUl",
        "iUNbvIvnT7ep",
        "OI3P3YnHUEBk",
        "ckfufNrcUHeH",
        "6XC_g-zKxe-r",
        "FlBMxEDBUc9B",
        "rF2ABPsHUtbZ",
        "vTbdjSrhVIiT",
        "lQ2G4ZPDVOXE",
        "xrmHVMVsVS--",
        "HPQviDmNtta8",
        "qjFHK1CKty7o",
        "HSsicSdvt4Zs"
      ],
      "toc_visible": true,
      "include_colab_link": true
    },
    "kernelspec": {
      "name": "python3",
      "display_name": "Python 3"
    }
  },
  "cells": [
    {
      "cell_type": "markdown",
      "metadata": {
        "id": "view-in-github",
        "colab_type": "text"
      },
      "source": [
        "<a href=\"https://colab.research.google.com/github/Cherow/Mercy_Cherotich_week7_datasciencecore_moringa_school/blob/main/Mercy_cherotich_moringaschool_week7core_independentproject.ipynb\" target=\"_parent\"><img src=\"https://colab.research.google.com/assets/colab-badge.svg\" alt=\"Open In Colab\"/></a>"
      ]
    },
    {
      "cell_type": "markdown",
      "metadata": {
        "id": "xMxtPsqcTsSH"
      },
      "source": [
        "### Week 7 independent project"
      ]
    },
    {
      "cell_type": "markdown",
      "metadata": {
        "id": "kLG2VTrnTvYL"
      },
      "source": [
        "## 1. Defining the Question"
      ]
    },
    {
      "cell_type": "markdown",
      "metadata": {
        "id": "XecOwPNorl2W"
      },
      "source": [
        "### a) Specifying the Question"
      ]
    },
    {
      "cell_type": "markdown",
      "metadata": {
        "id": "8l3-hBO6bODP"
      },
      "source": [
        "\n",
        "> Hass consultacy company has given the duty to study the factors that affect housing prices using the information given and later create a model that would accurately predict the sale prices of the house upon given the the input\n",
        "\n"
      ]
    },
    {
      "cell_type": "markdown",
      "metadata": {
        "id": "J4wfHZwQrs-t"
      },
      "source": [
        "### b) Defining the Metric for Success"
      ]
    },
    {
      "cell_type": "markdown",
      "metadata": {
        "id": "KfD1Ql9uTeIR"
      },
      "source": [
        "The metric of success will be measured using adjusted R2  and RMSE."
      ]
    },
    {
      "cell_type": "markdown",
      "metadata": {
        "id": "a9BPYqunry97"
      },
      "source": [
        "### c) Understanding the context "
      ]
    },
    {
      "cell_type": "markdown",
      "metadata": {
        "id": "IeZ-JLB4TmYA"
      },
      "source": [
        "knowning the factors that affect house pricing and their impact on the house price is important to the buyers and sellers of the house.\n",
        "The seller will be able to know what factor greately affect the price and focus on improving it in order to maximize profits.\n",
        "the buyer will also be able to decide on what to buy based on given factors since they know how it affects the price"
      ]
    },
    {
      "cell_type": "markdown",
      "metadata": {
        "id": "7KMRBJ7zr9HD"
      },
      "source": [
        "### d) Recording the Experimental Design"
      ]
    },
    {
      "cell_type": "markdown",
      "metadata": {
        "id": "PXVjXR97-JvC"
      },
      "source": [
        "The experimental design to be employed is the CRISP-DM\n",
        "design"
      ]
    },
    {
      "cell_type": "markdown",
      "metadata": {
        "id": "zSGyg6kWsBUl"
      },
      "source": [
        "### e) Data Relevance"
      ]
    },
    {
      "cell_type": "markdown",
      "metadata": {
        "id": "BbxhoFv6-Wix"
      },
      "source": [
        "The data we had is relevant and up to date"
      ]
    },
    {
      "cell_type": "markdown",
      "metadata": {
        "id": "iUNbvIvnT7ep"
      },
      "source": [
        "## 2. Reading the Data"
      ]
    },
    {
      "cell_type": "code",
      "metadata": {
        "id": "nT9Xc9VATwQ0",
        "colab": {
          "base_uri": "https://localhost:8080/"
        },
        "outputId": "c0e800ed-98a6-4ab2-9e45-7eded9948ad1"
      },
      "source": [
        "#importing the libraries\n",
        "import pandas as pd\n",
        "import numpy as np\n",
        "import matplotlib.pyplot as plt\n",
        "import seaborn as sns\n",
        "from sklearn.discriminant_analysis import LinearDiscriminantAnalysis as LDA\n",
        "from sklearn.linear_model import LinearRegression\n",
        "from sklearn import metrics\n",
        "from sklearn.model_selection import train_test_split\n",
        "import scipy as sp\n",
        "import statsmodels.formula.api as smf\n",
        "from sklearn.model_selection import GridSearchCV\n",
        "from sklearn.linear_model import Ridge\n",
        "from sklearn.linear_model import Lasso\n",
        "import warnings\n",
        "warnings.filterwarnings(\"ignore\")\n",
        "from sklearn.metrics import mean_squared_error\n",
        "from sklearn.preprocessing import StandardScaler\n",
        "from sklearn.linear_model import ElasticNet"
      ],
      "execution_count": 1,
      "outputs": [
        {
          "output_type": "stream",
          "name": "stderr",
          "text": [
            "/usr/local/lib/python3.7/dist-packages/statsmodels/tools/_testing.py:19: FutureWarning: pandas.util.testing is deprecated. Use the functions in the public API at pandas.testing instead.\n",
            "  import pandas.util.testing as tm\n"
          ]
        }
      ]
    },
    {
      "cell_type": "code",
      "metadata": {
        "id": "XJn2KjW-WMlG"
      },
      "source": [
        "# Loading the Dataset\n",
        "url = '/content/Independent Project Week 7 - house_data.csv'\n",
        "#\n",
        "housing_df = pd.read_csv(url)"
      ],
      "execution_count": 2,
      "outputs": []
    },
    {
      "cell_type": "markdown",
      "metadata": {
        "id": "OI3P3YnHUEBk"
      },
      "source": [
        "## 3. Checking the Data"
      ]
    },
    {
      "cell_type": "code",
      "metadata": {
        "id": "YjSVNwgptHxY",
        "colab": {
          "base_uri": "https://localhost:8080/"
        },
        "outputId": "f445eed6-2113-4a0c-c0cd-fc0cbacdf826"
      },
      "source": [
        "# Determining the no. of records in our dataset\n",
        "#\n",
        "housing_df.shape"
      ],
      "execution_count": 3,
      "outputs": [
        {
          "output_type": "execute_result",
          "data": {
            "text/plain": [
              "(21613, 20)"
            ]
          },
          "metadata": {},
          "execution_count": 3
        }
      ]
    },
    {
      "cell_type": "code",
      "metadata": {
        "id": "xHhTw5eKWr0n",
        "colab": {
          "base_uri": "https://localhost:8080/",
          "height": 226
        },
        "outputId": "5447511d-4074-439b-cb58-17f15c6d6c14"
      },
      "source": [
        "# Previewing the top of our dataset\n",
        "#\n",
        "housing_df.head()"
      ],
      "execution_count": 4,
      "outputs": [
        {
          "output_type": "execute_result",
          "data": {
            "text/html": [
              "<div>\n",
              "<style scoped>\n",
              "    .dataframe tbody tr th:only-of-type {\n",
              "        vertical-align: middle;\n",
              "    }\n",
              "\n",
              "    .dataframe tbody tr th {\n",
              "        vertical-align: top;\n",
              "    }\n",
              "\n",
              "    .dataframe thead th {\n",
              "        text-align: right;\n",
              "    }\n",
              "</style>\n",
              "<table border=\"1\" class=\"dataframe\">\n",
              "  <thead>\n",
              "    <tr style=\"text-align: right;\">\n",
              "      <th></th>\n",
              "      <th>id</th>\n",
              "      <th>price</th>\n",
              "      <th>bedrooms</th>\n",
              "      <th>bathrooms</th>\n",
              "      <th>sqft_living</th>\n",
              "      <th>sqft_lot</th>\n",
              "      <th>floors</th>\n",
              "      <th>waterfront</th>\n",
              "      <th>view</th>\n",
              "      <th>condition</th>\n",
              "      <th>grade</th>\n",
              "      <th>sqft_above</th>\n",
              "      <th>sqft_basement</th>\n",
              "      <th>yr_built</th>\n",
              "      <th>yr_renovated</th>\n",
              "      <th>zipcode</th>\n",
              "      <th>lat</th>\n",
              "      <th>long</th>\n",
              "      <th>sqft_living15</th>\n",
              "      <th>sqft_lot15</th>\n",
              "    </tr>\n",
              "  </thead>\n",
              "  <tbody>\n",
              "    <tr>\n",
              "      <th>0</th>\n",
              "      <td>7129300520</td>\n",
              "      <td>221900.0</td>\n",
              "      <td>3</td>\n",
              "      <td>1.00</td>\n",
              "      <td>1180</td>\n",
              "      <td>5650</td>\n",
              "      <td>1.0</td>\n",
              "      <td>0</td>\n",
              "      <td>0</td>\n",
              "      <td>3</td>\n",
              "      <td>7</td>\n",
              "      <td>1180</td>\n",
              "      <td>0</td>\n",
              "      <td>1955</td>\n",
              "      <td>0</td>\n",
              "      <td>98178</td>\n",
              "      <td>47.5112</td>\n",
              "      <td>-122.257</td>\n",
              "      <td>1340</td>\n",
              "      <td>5650</td>\n",
              "    </tr>\n",
              "    <tr>\n",
              "      <th>1</th>\n",
              "      <td>6414100192</td>\n",
              "      <td>538000.0</td>\n",
              "      <td>3</td>\n",
              "      <td>2.25</td>\n",
              "      <td>2570</td>\n",
              "      <td>7242</td>\n",
              "      <td>2.0</td>\n",
              "      <td>0</td>\n",
              "      <td>0</td>\n",
              "      <td>3</td>\n",
              "      <td>7</td>\n",
              "      <td>2170</td>\n",
              "      <td>400</td>\n",
              "      <td>1951</td>\n",
              "      <td>1991</td>\n",
              "      <td>98125</td>\n",
              "      <td>47.7210</td>\n",
              "      <td>-122.319</td>\n",
              "      <td>1690</td>\n",
              "      <td>7639</td>\n",
              "    </tr>\n",
              "    <tr>\n",
              "      <th>2</th>\n",
              "      <td>5631500400</td>\n",
              "      <td>180000.0</td>\n",
              "      <td>2</td>\n",
              "      <td>1.00</td>\n",
              "      <td>770</td>\n",
              "      <td>10000</td>\n",
              "      <td>1.0</td>\n",
              "      <td>0</td>\n",
              "      <td>0</td>\n",
              "      <td>3</td>\n",
              "      <td>6</td>\n",
              "      <td>770</td>\n",
              "      <td>0</td>\n",
              "      <td>1933</td>\n",
              "      <td>0</td>\n",
              "      <td>98028</td>\n",
              "      <td>47.7379</td>\n",
              "      <td>-122.233</td>\n",
              "      <td>2720</td>\n",
              "      <td>8062</td>\n",
              "    </tr>\n",
              "    <tr>\n",
              "      <th>3</th>\n",
              "      <td>2487200875</td>\n",
              "      <td>604000.0</td>\n",
              "      <td>4</td>\n",
              "      <td>3.00</td>\n",
              "      <td>1960</td>\n",
              "      <td>5000</td>\n",
              "      <td>1.0</td>\n",
              "      <td>0</td>\n",
              "      <td>0</td>\n",
              "      <td>5</td>\n",
              "      <td>7</td>\n",
              "      <td>1050</td>\n",
              "      <td>910</td>\n",
              "      <td>1965</td>\n",
              "      <td>0</td>\n",
              "      <td>98136</td>\n",
              "      <td>47.5208</td>\n",
              "      <td>-122.393</td>\n",
              "      <td>1360</td>\n",
              "      <td>5000</td>\n",
              "    </tr>\n",
              "    <tr>\n",
              "      <th>4</th>\n",
              "      <td>1954400510</td>\n",
              "      <td>510000.0</td>\n",
              "      <td>3</td>\n",
              "      <td>2.00</td>\n",
              "      <td>1680</td>\n",
              "      <td>8080</td>\n",
              "      <td>1.0</td>\n",
              "      <td>0</td>\n",
              "      <td>0</td>\n",
              "      <td>3</td>\n",
              "      <td>8</td>\n",
              "      <td>1680</td>\n",
              "      <td>0</td>\n",
              "      <td>1987</td>\n",
              "      <td>0</td>\n",
              "      <td>98074</td>\n",
              "      <td>47.6168</td>\n",
              "      <td>-122.045</td>\n",
              "      <td>1800</td>\n",
              "      <td>7503</td>\n",
              "    </tr>\n",
              "  </tbody>\n",
              "</table>\n",
              "</div>"
            ],
            "text/plain": [
              "           id     price  bedrooms  ...     long  sqft_living15  sqft_lot15\n",
              "0  7129300520  221900.0         3  ... -122.257           1340        5650\n",
              "1  6414100192  538000.0         3  ... -122.319           1690        7639\n",
              "2  5631500400  180000.0         2  ... -122.233           2720        8062\n",
              "3  2487200875  604000.0         4  ... -122.393           1360        5000\n",
              "4  1954400510  510000.0         3  ... -122.045           1800        7503\n",
              "\n",
              "[5 rows x 20 columns]"
            ]
          },
          "metadata": {},
          "execution_count": 4
        }
      ]
    },
    {
      "cell_type": "code",
      "metadata": {
        "id": "e9AzGcZFrIIr",
        "colab": {
          "base_uri": "https://localhost:8080/",
          "height": 226
        },
        "outputId": "e8110c39-e75f-44d1-b48e-e704829251cf"
      },
      "source": [
        "# Previewing the bottom of our dataset\n",
        "# \n",
        "housing_df.tail()"
      ],
      "execution_count": 5,
      "outputs": [
        {
          "output_type": "execute_result",
          "data": {
            "text/html": [
              "<div>\n",
              "<style scoped>\n",
              "    .dataframe tbody tr th:only-of-type {\n",
              "        vertical-align: middle;\n",
              "    }\n",
              "\n",
              "    .dataframe tbody tr th {\n",
              "        vertical-align: top;\n",
              "    }\n",
              "\n",
              "    .dataframe thead th {\n",
              "        text-align: right;\n",
              "    }\n",
              "</style>\n",
              "<table border=\"1\" class=\"dataframe\">\n",
              "  <thead>\n",
              "    <tr style=\"text-align: right;\">\n",
              "      <th></th>\n",
              "      <th>id</th>\n",
              "      <th>price</th>\n",
              "      <th>bedrooms</th>\n",
              "      <th>bathrooms</th>\n",
              "      <th>sqft_living</th>\n",
              "      <th>sqft_lot</th>\n",
              "      <th>floors</th>\n",
              "      <th>waterfront</th>\n",
              "      <th>view</th>\n",
              "      <th>condition</th>\n",
              "      <th>grade</th>\n",
              "      <th>sqft_above</th>\n",
              "      <th>sqft_basement</th>\n",
              "      <th>yr_built</th>\n",
              "      <th>yr_renovated</th>\n",
              "      <th>zipcode</th>\n",
              "      <th>lat</th>\n",
              "      <th>long</th>\n",
              "      <th>sqft_living15</th>\n",
              "      <th>sqft_lot15</th>\n",
              "    </tr>\n",
              "  </thead>\n",
              "  <tbody>\n",
              "    <tr>\n",
              "      <th>21608</th>\n",
              "      <td>263000018</td>\n",
              "      <td>360000.0</td>\n",
              "      <td>3</td>\n",
              "      <td>2.50</td>\n",
              "      <td>1530</td>\n",
              "      <td>1131</td>\n",
              "      <td>3.0</td>\n",
              "      <td>0</td>\n",
              "      <td>0</td>\n",
              "      <td>3</td>\n",
              "      <td>8</td>\n",
              "      <td>1530</td>\n",
              "      <td>0</td>\n",
              "      <td>2009</td>\n",
              "      <td>0</td>\n",
              "      <td>98103</td>\n",
              "      <td>47.6993</td>\n",
              "      <td>-122.346</td>\n",
              "      <td>1530</td>\n",
              "      <td>1509</td>\n",
              "    </tr>\n",
              "    <tr>\n",
              "      <th>21609</th>\n",
              "      <td>6600060120</td>\n",
              "      <td>400000.0</td>\n",
              "      <td>4</td>\n",
              "      <td>2.50</td>\n",
              "      <td>2310</td>\n",
              "      <td>5813</td>\n",
              "      <td>2.0</td>\n",
              "      <td>0</td>\n",
              "      <td>0</td>\n",
              "      <td>3</td>\n",
              "      <td>8</td>\n",
              "      <td>2310</td>\n",
              "      <td>0</td>\n",
              "      <td>2014</td>\n",
              "      <td>0</td>\n",
              "      <td>98146</td>\n",
              "      <td>47.5107</td>\n",
              "      <td>-122.362</td>\n",
              "      <td>1830</td>\n",
              "      <td>7200</td>\n",
              "    </tr>\n",
              "    <tr>\n",
              "      <th>21610</th>\n",
              "      <td>1523300141</td>\n",
              "      <td>402101.0</td>\n",
              "      <td>2</td>\n",
              "      <td>0.75</td>\n",
              "      <td>1020</td>\n",
              "      <td>1350</td>\n",
              "      <td>2.0</td>\n",
              "      <td>0</td>\n",
              "      <td>0</td>\n",
              "      <td>3</td>\n",
              "      <td>7</td>\n",
              "      <td>1020</td>\n",
              "      <td>0</td>\n",
              "      <td>2009</td>\n",
              "      <td>0</td>\n",
              "      <td>98144</td>\n",
              "      <td>47.5944</td>\n",
              "      <td>-122.299</td>\n",
              "      <td>1020</td>\n",
              "      <td>2007</td>\n",
              "    </tr>\n",
              "    <tr>\n",
              "      <th>21611</th>\n",
              "      <td>291310100</td>\n",
              "      <td>400000.0</td>\n",
              "      <td>3</td>\n",
              "      <td>2.50</td>\n",
              "      <td>1600</td>\n",
              "      <td>2388</td>\n",
              "      <td>2.0</td>\n",
              "      <td>0</td>\n",
              "      <td>0</td>\n",
              "      <td>3</td>\n",
              "      <td>8</td>\n",
              "      <td>1600</td>\n",
              "      <td>0</td>\n",
              "      <td>2004</td>\n",
              "      <td>0</td>\n",
              "      <td>98027</td>\n",
              "      <td>47.5345</td>\n",
              "      <td>-122.069</td>\n",
              "      <td>1410</td>\n",
              "      <td>1287</td>\n",
              "    </tr>\n",
              "    <tr>\n",
              "      <th>21612</th>\n",
              "      <td>1523300157</td>\n",
              "      <td>325000.0</td>\n",
              "      <td>2</td>\n",
              "      <td>0.75</td>\n",
              "      <td>1020</td>\n",
              "      <td>1076</td>\n",
              "      <td>2.0</td>\n",
              "      <td>0</td>\n",
              "      <td>0</td>\n",
              "      <td>3</td>\n",
              "      <td>7</td>\n",
              "      <td>1020</td>\n",
              "      <td>0</td>\n",
              "      <td>2008</td>\n",
              "      <td>0</td>\n",
              "      <td>98144</td>\n",
              "      <td>47.5941</td>\n",
              "      <td>-122.299</td>\n",
              "      <td>1020</td>\n",
              "      <td>1357</td>\n",
              "    </tr>\n",
              "  </tbody>\n",
              "</table>\n",
              "</div>"
            ],
            "text/plain": [
              "               id     price  bedrooms  ...     long  sqft_living15  sqft_lot15\n",
              "21608   263000018  360000.0         3  ... -122.346           1530        1509\n",
              "21609  6600060120  400000.0         4  ... -122.362           1830        7200\n",
              "21610  1523300141  402101.0         2  ... -122.299           1020        2007\n",
              "21611   291310100  400000.0         3  ... -122.069           1410        1287\n",
              "21612  1523300157  325000.0         2  ... -122.299           1020        1357\n",
              "\n",
              "[5 rows x 20 columns]"
            ]
          },
          "metadata": {},
          "execution_count": 5
        }
      ]
    },
    {
      "cell_type": "code",
      "metadata": {
        "id": "n8-dW4sQWzbc",
        "colab": {
          "base_uri": "https://localhost:8080/"
        },
        "outputId": "555c1ec5-2e31-48da-8d7a-4ba942933730"
      },
      "source": [
        "# Checking whether each column has an appropriate datatype\n",
        "#\n",
        "housing_df.info()\n",
        "#the data contain appropriate datatype"
      ],
      "execution_count": 6,
      "outputs": [
        {
          "output_type": "stream",
          "name": "stdout",
          "text": [
            "<class 'pandas.core.frame.DataFrame'>\n",
            "RangeIndex: 21613 entries, 0 to 21612\n",
            "Data columns (total 20 columns):\n",
            " #   Column         Non-Null Count  Dtype  \n",
            "---  ------         --------------  -----  \n",
            " 0   id             21613 non-null  int64  \n",
            " 1   price          21613 non-null  float64\n",
            " 2   bedrooms       21613 non-null  int64  \n",
            " 3   bathrooms      21613 non-null  float64\n",
            " 4   sqft_living    21613 non-null  int64  \n",
            " 5   sqft_lot       21613 non-null  int64  \n",
            " 6   floors         21613 non-null  float64\n",
            " 7   waterfront     21613 non-null  int64  \n",
            " 8   view           21613 non-null  int64  \n",
            " 9   condition      21613 non-null  int64  \n",
            " 10  grade          21613 non-null  int64  \n",
            " 11  sqft_above     21613 non-null  int64  \n",
            " 12  sqft_basement  21613 non-null  int64  \n",
            " 13  yr_built       21613 non-null  int64  \n",
            " 14  yr_renovated   21613 non-null  int64  \n",
            " 15  zipcode        21613 non-null  int64  \n",
            " 16  lat            21613 non-null  float64\n",
            " 17  long           21613 non-null  float64\n",
            " 18  sqft_living15  21613 non-null  int64  \n",
            " 19  sqft_lot15     21613 non-null  int64  \n",
            "dtypes: float64(5), int64(15)\n",
            "memory usage: 3.3 MB\n"
          ]
        }
      ]
    },
    {
      "cell_type": "code",
      "metadata": {
        "colab": {
          "base_uri": "https://localhost:8080/"
        },
        "id": "rmRK50ksUnmk",
        "outputId": "277712a7-cf55-43fc-d7de-d7a585fe6aea"
      },
      "source": [
        "#checking for unique values\n",
        "housing_df.nunique()"
      ],
      "execution_count": 7,
      "outputs": [
        {
          "output_type": "execute_result",
          "data": {
            "text/plain": [
              "id               21436\n",
              "price             3625\n",
              "bedrooms            13\n",
              "bathrooms           30\n",
              "sqft_living       1038\n",
              "sqft_lot          9782\n",
              "floors               6\n",
              "waterfront           2\n",
              "view                 5\n",
              "condition            5\n",
              "grade               12\n",
              "sqft_above         946\n",
              "sqft_basement      306\n",
              "yr_built           116\n",
              "yr_renovated        70\n",
              "zipcode             70\n",
              "lat               5034\n",
              "long               752\n",
              "sqft_living15      777\n",
              "sqft_lot15        8689\n",
              "dtype: int64"
            ]
          },
          "metadata": {},
          "execution_count": 7
        }
      ]
    },
    {
      "cell_type": "markdown",
      "metadata": {
        "id": "ckfufNrcUHeH"
      },
      "source": [
        "## 4. External Data Source Validation"
      ]
    },
    {
      "cell_type": "markdown",
      "metadata": {
        "id": "6L4sl_0WXlbg"
      },
      "source": [
        "Making sure your data matches something outside of the dataset is very important. It allows you to ensure that the measurements are roughly in line with what they should be and it serves as a check on what other things might be wrong in your dataset. External validation can often be as simple as checking your data against a single number, as we will do here."
      ]
    },
    {
      "cell_type": "markdown",
      "metadata": {
        "id": "6XC_g-zKxe-r"
      },
      "source": [
        "### a.Validation"
      ]
    },
    {
      "cell_type": "markdown",
      "metadata": {
        "id": "FlBMxEDBUc9B"
      },
      "source": [
        "## 5. Tidying the Dataset"
      ]
    },
    {
      "cell_type": "code",
      "metadata": {
        "colab": {
          "base_uri": "https://localhost:8080/",
          "height": 101
        },
        "id": "6r8h79_OXcaF",
        "outputId": "f8548409-6c99-4298-c28b-459998f99c37"
      },
      "source": [
        "#dropping the id column since we wont need it  and the lat and long columns we will use the zipcode to get location\n",
        "housing_df.drop(['id','lat','long'],1,inplace=True)\n",
        "housing_df.head(1)\n",
        "\n"
      ],
      "execution_count": 8,
      "outputs": [
        {
          "output_type": "execute_result",
          "data": {
            "text/html": [
              "<div>\n",
              "<style scoped>\n",
              "    .dataframe tbody tr th:only-of-type {\n",
              "        vertical-align: middle;\n",
              "    }\n",
              "\n",
              "    .dataframe tbody tr th {\n",
              "        vertical-align: top;\n",
              "    }\n",
              "\n",
              "    .dataframe thead th {\n",
              "        text-align: right;\n",
              "    }\n",
              "</style>\n",
              "<table border=\"1\" class=\"dataframe\">\n",
              "  <thead>\n",
              "    <tr style=\"text-align: right;\">\n",
              "      <th></th>\n",
              "      <th>price</th>\n",
              "      <th>bedrooms</th>\n",
              "      <th>bathrooms</th>\n",
              "      <th>sqft_living</th>\n",
              "      <th>sqft_lot</th>\n",
              "      <th>floors</th>\n",
              "      <th>waterfront</th>\n",
              "      <th>view</th>\n",
              "      <th>condition</th>\n",
              "      <th>grade</th>\n",
              "      <th>sqft_above</th>\n",
              "      <th>sqft_basement</th>\n",
              "      <th>yr_built</th>\n",
              "      <th>yr_renovated</th>\n",
              "      <th>zipcode</th>\n",
              "      <th>sqft_living15</th>\n",
              "      <th>sqft_lot15</th>\n",
              "    </tr>\n",
              "  </thead>\n",
              "  <tbody>\n",
              "    <tr>\n",
              "      <th>0</th>\n",
              "      <td>221900.0</td>\n",
              "      <td>3</td>\n",
              "      <td>1.0</td>\n",
              "      <td>1180</td>\n",
              "      <td>5650</td>\n",
              "      <td>1.0</td>\n",
              "      <td>0</td>\n",
              "      <td>0</td>\n",
              "      <td>3</td>\n",
              "      <td>7</td>\n",
              "      <td>1180</td>\n",
              "      <td>0</td>\n",
              "      <td>1955</td>\n",
              "      <td>0</td>\n",
              "      <td>98178</td>\n",
              "      <td>1340</td>\n",
              "      <td>5650</td>\n",
              "    </tr>\n",
              "  </tbody>\n",
              "</table>\n",
              "</div>"
            ],
            "text/plain": [
              "      price  bedrooms  bathrooms  ...  zipcode  sqft_living15  sqft_lot15\n",
              "0  221900.0         3        1.0  ...    98178           1340        5650\n",
              "\n",
              "[1 rows x 17 columns]"
            ]
          },
          "metadata": {},
          "execution_count": 8
        }
      ]
    },
    {
      "cell_type": "code",
      "metadata": {
        "id": "PvCYb6dgW4yh",
        "colab": {
          "base_uri": "https://localhost:8080/"
        },
        "outputId": "ff4e7f5a-b745-4791-93b9-859b1fc24f37"
      },
      "source": [
        "# Identifying the Missing Data\n",
        "#\n",
        "housing_df.isnull().sum()"
      ],
      "execution_count": 9,
      "outputs": [
        {
          "output_type": "execute_result",
          "data": {
            "text/plain": [
              "price            0\n",
              "bedrooms         0\n",
              "bathrooms        0\n",
              "sqft_living      0\n",
              "sqft_lot         0\n",
              "floors           0\n",
              "waterfront       0\n",
              "view             0\n",
              "condition        0\n",
              "grade            0\n",
              "sqft_above       0\n",
              "sqft_basement    0\n",
              "yr_built         0\n",
              "yr_renovated     0\n",
              "zipcode          0\n",
              "sqft_living15    0\n",
              "sqft_lot15       0\n",
              "dtype: int64"
            ]
          },
          "metadata": {},
          "execution_count": 9
        }
      ]
    },
    {
      "cell_type": "code",
      "metadata": {
        "colab": {
          "base_uri": "https://localhost:8080/",
          "height": 126
        },
        "id": "ub7512vWsfvz",
        "outputId": "c6dbef06-02b0-4981-d8f6-3894943e4863"
      },
      "source": [
        "#checking for outliers\n",
        "housing_df.head()\n",
        "blue_circle = dict(markerfacecolor = 'blue', marker='o',markeredgecolor = 'white')\n",
        "fig,axs = plt.subplots(1, len(housing_df.columns),figsize = (50,5))\n",
        "for i , ax in enumerate (axs.flat):\n",
        "  ax.boxplot(housing_df.iloc[:,i],flierprops=blue_circle)\n",
        "  ax.set_title(housing_df.columns[i],fontsize= 15)\n",
        "  ax.tick_params(axis = 'y',labelsize = 15)\n",
        "plt.tight_layout()\n",
        "#our data contains outliers but we wont remove them  since they are source of variations in our data "
      ],
      "execution_count": 10,
      "outputs": [
        {
          "output_type": "display_data",
          "data": {
            "image/png": "[encoded data removed]",
            "text/plain": [
              "<Figure size 3600x360 with 17 Axes>"
            ]
          },
          "metadata": {
            "needs_background": "light"
          }
        }
      ]
    },
    {
      "cell_type": "code",
      "metadata": {
        "id": "MpsDGKZHsf_W"
      },
      "source": [
        "# Dealing with the Missing Data\n",
        "#our data has no missing values "
      ],
      "execution_count": 12,
      "outputs": []
    },
    {
      "cell_type": "code",
      "metadata": {
        "id": "D-4I__6Os4C5",
        "colab": {
          "base_uri": "https://localhost:8080/",
          "height": 258
        },
        "outputId": "50c56bed-62a4-4841-e19e-acc8a8e69c58"
      },
      "source": [
        "# checking for duplicates \n",
        "#\n",
        "housing_df.duplicated().sum()\n",
        "#checking the duplicates\n",
        "duplicate = housing_df[housing_df.duplicated()]\n",
        "duplicate\n",
        "#checking the duplicates we realised they is no need to drop them since the duplicates were not in all columns"
      ],
      "execution_count": 11,
      "outputs": [
        {
          "output_type": "execute_result",
          "data": {
            "text/html": [
              "<div>\n",
              "<style scoped>\n",
              "    .dataframe tbody tr th:only-of-type {\n",
              "        vertical-align: middle;\n",
              "    }\n",
              "\n",
              "    .dataframe tbody tr th {\n",
              "        vertical-align: top;\n",
              "    }\n",
              "\n",
              "    .dataframe thead th {\n",
              "        text-align: right;\n",
              "    }\n",
              "</style>\n",
              "<table border=\"1\" class=\"dataframe\">\n",
              "  <thead>\n",
              "    <tr style=\"text-align: right;\">\n",
              "      <th></th>\n",
              "      <th>price</th>\n",
              "      <th>bedrooms</th>\n",
              "      <th>bathrooms</th>\n",
              "      <th>sqft_living</th>\n",
              "      <th>sqft_lot</th>\n",
              "      <th>floors</th>\n",
              "      <th>waterfront</th>\n",
              "      <th>view</th>\n",
              "      <th>condition</th>\n",
              "      <th>grade</th>\n",
              "      <th>sqft_above</th>\n",
              "      <th>sqft_basement</th>\n",
              "      <th>yr_built</th>\n",
              "      <th>yr_renovated</th>\n",
              "      <th>zipcode</th>\n",
              "      <th>sqft_living15</th>\n",
              "      <th>sqft_lot15</th>\n",
              "    </tr>\n",
              "  </thead>\n",
              "  <tbody>\n",
              "    <tr>\n",
              "      <th>3951</th>\n",
              "      <td>550000.0</td>\n",
              "      <td>4</td>\n",
              "      <td>1.75</td>\n",
              "      <td>2410</td>\n",
              "      <td>8447</td>\n",
              "      <td>2.0</td>\n",
              "      <td>0</td>\n",
              "      <td>3</td>\n",
              "      <td>4</td>\n",
              "      <td>8</td>\n",
              "      <td>2060</td>\n",
              "      <td>350</td>\n",
              "      <td>1936</td>\n",
              "      <td>1980</td>\n",
              "      <td>98074</td>\n",
              "      <td>2520</td>\n",
              "      <td>14789</td>\n",
              "    </tr>\n",
              "    <tr>\n",
              "      <th>4352</th>\n",
              "      <td>259950.0</td>\n",
              "      <td>2</td>\n",
              "      <td>2.00</td>\n",
              "      <td>1070</td>\n",
              "      <td>649</td>\n",
              "      <td>2.0</td>\n",
              "      <td>0</td>\n",
              "      <td>0</td>\n",
              "      <td>3</td>\n",
              "      <td>9</td>\n",
              "      <td>720</td>\n",
              "      <td>350</td>\n",
              "      <td>2008</td>\n",
              "      <td>0</td>\n",
              "      <td>98106</td>\n",
              "      <td>1070</td>\n",
              "      <td>928</td>\n",
              "    </tr>\n",
              "    <tr>\n",
              "      <th>14983</th>\n",
              "      <td>585000.0</td>\n",
              "      <td>3</td>\n",
              "      <td>2.50</td>\n",
              "      <td>2290</td>\n",
              "      <td>5089</td>\n",
              "      <td>2.0</td>\n",
              "      <td>0</td>\n",
              "      <td>0</td>\n",
              "      <td>3</td>\n",
              "      <td>9</td>\n",
              "      <td>2290</td>\n",
              "      <td>0</td>\n",
              "      <td>2001</td>\n",
              "      <td>0</td>\n",
              "      <td>98006</td>\n",
              "      <td>2290</td>\n",
              "      <td>7984</td>\n",
              "    </tr>\n",
              "    <tr>\n",
              "      <th>20054</th>\n",
              "      <td>555000.0</td>\n",
              "      <td>3</td>\n",
              "      <td>2.50</td>\n",
              "      <td>1940</td>\n",
              "      <td>3211</td>\n",
              "      <td>2.0</td>\n",
              "      <td>0</td>\n",
              "      <td>0</td>\n",
              "      <td>3</td>\n",
              "      <td>8</td>\n",
              "      <td>1940</td>\n",
              "      <td>0</td>\n",
              "      <td>2009</td>\n",
              "      <td>0</td>\n",
              "      <td>98027</td>\n",
              "      <td>1880</td>\n",
              "      <td>3078</td>\n",
              "    </tr>\n",
              "    <tr>\n",
              "      <th>20524</th>\n",
              "      <td>529500.0</td>\n",
              "      <td>3</td>\n",
              "      <td>2.25</td>\n",
              "      <td>1410</td>\n",
              "      <td>905</td>\n",
              "      <td>3.0</td>\n",
              "      <td>0</td>\n",
              "      <td>0</td>\n",
              "      <td>3</td>\n",
              "      <td>9</td>\n",
              "      <td>1410</td>\n",
              "      <td>0</td>\n",
              "      <td>2014</td>\n",
              "      <td>0</td>\n",
              "      <td>98116</td>\n",
              "      <td>1510</td>\n",
              "      <td>1352</td>\n",
              "    </tr>\n",
              "    <tr>\n",
              "      <th>21474</th>\n",
              "      <td>359800.0</td>\n",
              "      <td>5</td>\n",
              "      <td>2.50</td>\n",
              "      <td>2170</td>\n",
              "      <td>2752</td>\n",
              "      <td>2.0</td>\n",
              "      <td>0</td>\n",
              "      <td>0</td>\n",
              "      <td>3</td>\n",
              "      <td>8</td>\n",
              "      <td>2170</td>\n",
              "      <td>0</td>\n",
              "      <td>2014</td>\n",
              "      <td>0</td>\n",
              "      <td>98106</td>\n",
              "      <td>1800</td>\n",
              "      <td>2752</td>\n",
              "    </tr>\n",
              "  </tbody>\n",
              "</table>\n",
              "</div>"
            ],
            "text/plain": [
              "          price  bedrooms  bathrooms  ...  zipcode  sqft_living15  sqft_lot15\n",
              "3951   550000.0         4       1.75  ...    98074           2520       14789\n",
              "4352   259950.0         2       2.00  ...    98106           1070         928\n",
              "14983  585000.0         3       2.50  ...    98006           2290        7984\n",
              "20054  555000.0         3       2.50  ...    98027           1880        3078\n",
              "20524  529500.0         3       2.25  ...    98116           1510        1352\n",
              "21474  359800.0         5       2.50  ...    98106           1800        2752\n",
              "\n",
              "[6 rows x 17 columns]"
            ]
          },
          "metadata": {},
          "execution_count": 11
        }
      ]
    },
    {
      "cell_type": "code",
      "metadata": {
        "id": "IU6U2TcfS9rV"
      },
      "source": [
        "#since we are doing the study now we will get the difference between the year the house was build and now to otain the age\n",
        "housing_df['house_age'] = 2021-housing_df['yr_built']\n",
        "housing_df.head()\n",
        "#we also get how old the house is since renovation\n",
        "housing_df['renovation_age']  = 2021 - housing_df['yr_renovated']\n",
        "housing_df['renovation_age'].replace({2021:0},inplace = True)\n",
        "housing_df.head()\n",
        "#we then drop the yr_build and yr_renovated age since we already have the age of the house\n",
        "housing_df.drop(['yr_built','yr_renovated'],1,inplace=True)\n"
      ],
      "execution_count": 12,
      "outputs": []
    },
    {
      "cell_type": "markdown",
      "metadata": {
        "id": "rF2ABPsHUtbZ"
      },
      "source": [
        "## 6. Exploratory Analysis"
      ]
    },
    {
      "cell_type": "markdown",
      "metadata": {
        "id": "H-Z5ZttbItsA"
      },
      "source": [
        "1.Univariate Analysis"
      ]
    },
    {
      "cell_type": "code",
      "metadata": {
        "id": "5nnRToniXGDK",
        "colab": {
          "base_uri": "https://localhost:8080/",
          "height": 320
        },
        "outputId": "27fdf804-a4cb-4938-fb7d-92cfef815fa9"
      },
      "source": [
        "# Ploting the univariate summaries and recording our observations\n",
        "#\n",
        "housing_df.describe()"
      ],
      "execution_count": 13,
      "outputs": [
        {
          "output_type": "execute_result",
          "data": {
            "text/html": [
              "<div>\n",
              "<style scoped>\n",
              "    .dataframe tbody tr th:only-of-type {\n",
              "        vertical-align: middle;\n",
              "    }\n",
              "\n",
              "    .dataframe tbody tr th {\n",
              "        vertical-align: top;\n",
              "    }\n",
              "\n",
              "    .dataframe thead th {\n",
              "        text-align: right;\n",
              "    }\n",
              "</style>\n",
              "<table border=\"1\" class=\"dataframe\">\n",
              "  <thead>\n",
              "    <tr style=\"text-align: right;\">\n",
              "      <th></th>\n",
              "      <th>price</th>\n",
              "      <th>bedrooms</th>\n",
              "      <th>bathrooms</th>\n",
              "      <th>sqft_living</th>\n",
              "      <th>sqft_lot</th>\n",
              "      <th>floors</th>\n",
              "      <th>waterfront</th>\n",
              "      <th>view</th>\n",
              "      <th>condition</th>\n",
              "      <th>grade</th>\n",
              "      <th>sqft_above</th>\n",
              "      <th>sqft_basement</th>\n",
              "      <th>zipcode</th>\n",
              "      <th>sqft_living15</th>\n",
              "      <th>sqft_lot15</th>\n",
              "      <th>house_age</th>\n",
              "      <th>renovation_age</th>\n",
              "    </tr>\n",
              "  </thead>\n",
              "  <tbody>\n",
              "    <tr>\n",
              "      <th>count</th>\n",
              "      <td>2.161300e+04</td>\n",
              "      <td>21613.000000</td>\n",
              "      <td>21613.000000</td>\n",
              "      <td>21613.000000</td>\n",
              "      <td>2.161300e+04</td>\n",
              "      <td>21613.000000</td>\n",
              "      <td>21613.000000</td>\n",
              "      <td>21613.000000</td>\n",
              "      <td>21613.000000</td>\n",
              "      <td>21613.000000</td>\n",
              "      <td>21613.000000</td>\n",
              "      <td>21613.000000</td>\n",
              "      <td>21613.000000</td>\n",
              "      <td>21613.000000</td>\n",
              "      <td>21613.000000</td>\n",
              "      <td>21613.000000</td>\n",
              "      <td>21613.000000</td>\n",
              "    </tr>\n",
              "    <tr>\n",
              "      <th>mean</th>\n",
              "      <td>5.401822e+05</td>\n",
              "      <td>3.370842</td>\n",
              "      <td>2.114757</td>\n",
              "      <td>2079.899736</td>\n",
              "      <td>1.510697e+04</td>\n",
              "      <td>1.494309</td>\n",
              "      <td>0.007542</td>\n",
              "      <td>0.234303</td>\n",
              "      <td>3.409430</td>\n",
              "      <td>7.656873</td>\n",
              "      <td>1788.390691</td>\n",
              "      <td>291.509045</td>\n",
              "      <td>98077.939805</td>\n",
              "      <td>1986.552492</td>\n",
              "      <td>12768.455652</td>\n",
              "      <td>49.994864</td>\n",
              "      <td>1.064544</td>\n",
              "    </tr>\n",
              "    <tr>\n",
              "      <th>std</th>\n",
              "      <td>3.673622e+05</td>\n",
              "      <td>0.930062</td>\n",
              "      <td>0.770163</td>\n",
              "      <td>918.440897</td>\n",
              "      <td>4.142051e+04</td>\n",
              "      <td>0.539989</td>\n",
              "      <td>0.086517</td>\n",
              "      <td>0.766318</td>\n",
              "      <td>0.650743</td>\n",
              "      <td>1.175459</td>\n",
              "      <td>828.090978</td>\n",
              "      <td>442.575043</td>\n",
              "      <td>53.505026</td>\n",
              "      <td>685.391304</td>\n",
              "      <td>27304.179631</td>\n",
              "      <td>29.373411</td>\n",
              "      <td>5.986431</td>\n",
              "    </tr>\n",
              "    <tr>\n",
              "      <th>min</th>\n",
              "      <td>7.500000e+04</td>\n",
              "      <td>0.000000</td>\n",
              "      <td>0.000000</td>\n",
              "      <td>290.000000</td>\n",
              "      <td>5.200000e+02</td>\n",
              "      <td>1.000000</td>\n",
              "      <td>0.000000</td>\n",
              "      <td>0.000000</td>\n",
              "      <td>1.000000</td>\n",
              "      <td>1.000000</td>\n",
              "      <td>290.000000</td>\n",
              "      <td>0.000000</td>\n",
              "      <td>98001.000000</td>\n",
              "      <td>399.000000</td>\n",
              "      <td>651.000000</td>\n",
              "      <td>6.000000</td>\n",
              "      <td>0.000000</td>\n",
              "    </tr>\n",
              "    <tr>\n",
              "      <th>25%</th>\n",
              "      <td>3.219500e+05</td>\n",
              "      <td>3.000000</td>\n",
              "      <td>1.750000</td>\n",
              "      <td>1427.000000</td>\n",
              "      <td>5.040000e+03</td>\n",
              "      <td>1.000000</td>\n",
              "      <td>0.000000</td>\n",
              "      <td>0.000000</td>\n",
              "      <td>3.000000</td>\n",
              "      <td>7.000000</td>\n",
              "      <td>1190.000000</td>\n",
              "      <td>0.000000</td>\n",
              "      <td>98033.000000</td>\n",
              "      <td>1490.000000</td>\n",
              "      <td>5100.000000</td>\n",
              "      <td>24.000000</td>\n",
              "      <td>0.000000</td>\n",
              "    </tr>\n",
              "    <tr>\n",
              "      <th>50%</th>\n",
              "      <td>4.500000e+05</td>\n",
              "      <td>3.000000</td>\n",
              "      <td>2.250000</td>\n",
              "      <td>1910.000000</td>\n",
              "      <td>7.618000e+03</td>\n",
              "      <td>1.500000</td>\n",
              "      <td>0.000000</td>\n",
              "      <td>0.000000</td>\n",
              "      <td>3.000000</td>\n",
              "      <td>7.000000</td>\n",
              "      <td>1560.000000</td>\n",
              "      <td>0.000000</td>\n",
              "      <td>98065.000000</td>\n",
              "      <td>1840.000000</td>\n",
              "      <td>7620.000000</td>\n",
              "      <td>46.000000</td>\n",
              "      <td>0.000000</td>\n",
              "    </tr>\n",
              "    <tr>\n",
              "      <th>75%</th>\n",
              "      <td>6.450000e+05</td>\n",
              "      <td>4.000000</td>\n",
              "      <td>2.500000</td>\n",
              "      <td>2550.000000</td>\n",
              "      <td>1.068800e+04</td>\n",
              "      <td>2.000000</td>\n",
              "      <td>0.000000</td>\n",
              "      <td>0.000000</td>\n",
              "      <td>4.000000</td>\n",
              "      <td>8.000000</td>\n",
              "      <td>2210.000000</td>\n",
              "      <td>560.000000</td>\n",
              "      <td>98118.000000</td>\n",
              "      <td>2360.000000</td>\n",
              "      <td>10083.000000</td>\n",
              "      <td>70.000000</td>\n",
              "      <td>0.000000</td>\n",
              "    </tr>\n",
              "    <tr>\n",
              "      <th>max</th>\n",
              "      <td>7.700000e+06</td>\n",
              "      <td>33.000000</td>\n",
              "      <td>8.000000</td>\n",
              "      <td>13540.000000</td>\n",
              "      <td>1.651359e+06</td>\n",
              "      <td>3.500000</td>\n",
              "      <td>1.000000</td>\n",
              "      <td>4.000000</td>\n",
              "      <td>5.000000</td>\n",
              "      <td>13.000000</td>\n",
              "      <td>9410.000000</td>\n",
              "      <td>4820.000000</td>\n",
              "      <td>98199.000000</td>\n",
              "      <td>6210.000000</td>\n",
              "      <td>871200.000000</td>\n",
              "      <td>121.000000</td>\n",
              "      <td>87.000000</td>\n",
              "    </tr>\n",
              "  </tbody>\n",
              "</table>\n",
              "</div>"
            ],
            "text/plain": [
              "              price      bedrooms  ...     house_age  renovation_age\n",
              "count  2.161300e+04  21613.000000  ...  21613.000000    21613.000000\n",
              "mean   5.401822e+05      3.370842  ...     49.994864        1.064544\n",
              "std    3.673622e+05      0.930062  ...     29.373411        5.986431\n",
              "min    7.500000e+04      0.000000  ...      6.000000        0.000000\n",
              "25%    3.219500e+05      3.000000  ...     24.000000        0.000000\n",
              "50%    4.500000e+05      3.000000  ...     46.000000        0.000000\n",
              "75%    6.450000e+05      4.000000  ...     70.000000        0.000000\n",
              "max    7.700000e+06     33.000000  ...    121.000000       87.000000\n",
              "\n",
              "[8 rows x 17 columns]"
            ]
          },
          "metadata": {},
          "execution_count": 13
        }
      ]
    },
    {
      "cell_type": "code",
      "metadata": {
        "colab": {
          "base_uri": "https://localhost:8080/",
          "height": 418
        },
        "id": "bRQDOOBJN_jp",
        "outputId": "28373aca-92fc-4235-8259-a8b103499bcc"
      },
      "source": [
        "#frquency table for unique values in floors and visualizing it\n",
        "print(housing_df['floors'].value_counts())\n",
        "sns.histplot(housing_df['floors'],bins = 6,binwidth=0.4)\n",
        "#most have houses have 1 floors"
      ],
      "execution_count": 16,
      "outputs": [
        {
          "output_type": "stream",
          "name": "stdout",
          "text": [
            "1.0    10680\n",
            "2.0     8241\n",
            "1.5     1910\n",
            "3.0      613\n",
            "2.5      161\n",
            "3.5        8\n",
            "Name: floors, dtype: int64\n"
          ]
        },
        {
          "output_type": "execute_result",
          "data": {
            "text/plain": [
              "<matplotlib.axes._subplots.AxesSubplot at 0x7f33eb37e810>"
            ]
          },
          "metadata": {},
          "execution_count": 16
        },
        {
          "output_type": "display_data",
          "data": {
            "image/png": "[encoded data removed]",
            "text/plain": [
              "<Figure size 432x288 with 1 Axes>"
            ]
          },
          "metadata": {
            "needs_background": "light"
          }
        }
      ]
    },
    {
      "cell_type": "code",
      "metadata": {
        "colab": {
          "base_uri": "https://localhost:8080/",
          "height": 401
        },
        "id": "SUZhKcIoSaI1",
        "outputId": "a05c50e6-8c49-4885-ce04-45d48e525762"
      },
      "source": [
        "#frequency table for unique values in view column and visualization\n",
        "print(housing_df['view'].value_counts())\n",
        "sns.histplot(housing_df['view'],bins = 5)\n",
        "# most houses seems to be having 0 views"
      ],
      "execution_count": 17,
      "outputs": [
        {
          "output_type": "stream",
          "name": "stdout",
          "text": [
            "0    19489\n",
            "2      963\n",
            "3      510\n",
            "1      332\n",
            "4      319\n",
            "Name: view, dtype: int64\n"
          ]
        },
        {
          "output_type": "execute_result",
          "data": {
            "text/plain": [
              "<matplotlib.axes._subplots.AxesSubplot at 0x7f33e88a0d90>"
            ]
          },
          "metadata": {},
          "execution_count": 17
        },
        {
          "output_type": "display_data",
          "data": {
            "image/png": "[encoded data removed]",
            "text/plain": [
              "<Figure size 432x288 with 1 Axes>"
            ]
          },
          "metadata": {
            "needs_background": "light"
          }
        }
      ]
    },
    {
      "cell_type": "code",
      "metadata": {
        "colab": {
          "base_uri": "https://localhost:8080/",
          "height": 349
        },
        "id": "DSGH4o7TTbwz",
        "outputId": "e2969812-2e83-46d9-e7a2-00211ac4e4c9"
      },
      "source": [
        "#frquency table for unique values in waterfront  column \n",
        "print(housing_df['waterfront'].value_counts())\n",
        "#visualising  the frequency table\n",
        "sns.histplot(housing_df['waterfront'], bins = 2)\n",
        "#most houses dont have waterfront"
      ],
      "execution_count": 18,
      "outputs": [
        {
          "output_type": "stream",
          "name": "stdout",
          "text": [
            "0    21450\n",
            "1      163\n",
            "Name: waterfront, dtype: int64\n"
          ]
        },
        {
          "output_type": "execute_result",
          "data": {
            "text/plain": [
              "<matplotlib.axes._subplots.AxesSubplot at 0x7f33eb853190>"
            ]
          },
          "metadata": {},
          "execution_count": 18
        },
        {
          "output_type": "display_data",
          "data": {
            "image/png": "[encoded data removed]",
            "text/plain": [
              "<Figure size 432x288 with 1 Axes>"
            ]
          },
          "metadata": {
            "needs_background": "light"
          }
        }
      ]
    },
    {
      "cell_type": "code",
      "metadata": {
        "colab": {
          "base_uri": "https://localhost:8080/",
          "height": 401
        },
        "id": "GHWVbjBhUuhg",
        "outputId": "c8e01549-108f-4bbc-9625-4a6daaf9f1d0"
      },
      "source": [
        "#frequency table for unique values in the condition column\n",
        "print(housing_df['condition'].value_counts())\n",
        "#visualising\n",
        "sns.histplot(housing_df['condition'],bins = 5)\n",
        "#most houses are in the 3rd condition"
      ],
      "execution_count": 19,
      "outputs": [
        {
          "output_type": "stream",
          "name": "stdout",
          "text": [
            "3    14031\n",
            "4     5679\n",
            "5     1701\n",
            "2      172\n",
            "1       30\n",
            "Name: condition, dtype: int64\n"
          ]
        },
        {
          "output_type": "execute_result",
          "data": {
            "text/plain": [
              "<matplotlib.axes._subplots.AxesSubplot at 0x7f33e888f7d0>"
            ]
          },
          "metadata": {},
          "execution_count": 19
        },
        {
          "output_type": "display_data",
          "data": {
            "image/png": "[encoded data removed]",
            "text/plain": [
              "<Figure size 432x288 with 1 Axes>"
            ]
          },
          "metadata": {
            "needs_background": "light"
          }
        }
      ]
    },
    {
      "cell_type": "code",
      "metadata": {
        "colab": {
          "base_uri": "https://localhost:8080/",
          "height": 522
        },
        "id": "bCcIkmz-VuSP",
        "outputId": "d7b75611-335c-40b1-dd4d-9fbd6aa6d72b"
      },
      "source": [
        "#value count of unique values in grade column\n",
        "print(housing_df['grade'].value_counts())\n",
        "#visualising the frequency table\n",
        "sns.histplot(housing_df['grade'],bins = 13)"
      ],
      "execution_count": 20,
      "outputs": [
        {
          "output_type": "stream",
          "name": "stdout",
          "text": [
            "7     8981\n",
            "8     6068\n",
            "9     2615\n",
            "6     2038\n",
            "10    1134\n",
            "11     399\n",
            "5      242\n",
            "12      90\n",
            "4       29\n",
            "13      13\n",
            "3        3\n",
            "1        1\n",
            "Name: grade, dtype: int64\n"
          ]
        },
        {
          "output_type": "execute_result",
          "data": {
            "text/plain": [
              "<matplotlib.axes._subplots.AxesSubplot at 0x7f33e8714110>"
            ]
          },
          "metadata": {},
          "execution_count": 20
        },
        {
          "output_type": "display_data",
          "data": {
            "image/png": "[encoded data removed]",
            "text/plain": [
              "<Figure size 432x288 with 1 Axes>"
            ]
          },
          "metadata": {
            "needs_background": "light"
          }
        }
      ]
    },
    {
      "cell_type": "code",
      "metadata": {
        "colab": {
          "base_uri": "https://localhost:8080/"
        },
        "id": "vFaqCf1CYuG4",
        "outputId": "7b4c80ef-e690-4cd5-9fc4-500bb7171e1c"
      },
      "source": [
        "#frequency table for zip code column\n",
        "housing_df['zipcode'].value_counts()\n",
        "#most houses are located in area code 98103"
      ],
      "execution_count": 21,
      "outputs": [
        {
          "output_type": "execute_result",
          "data": {
            "text/plain": [
              "98103    602\n",
              "98038    590\n",
              "98115    583\n",
              "98052    574\n",
              "98117    553\n",
              "        ... \n",
              "98102    105\n",
              "98010    100\n",
              "98024     81\n",
              "98148     57\n",
              "98039     50\n",
              "Name: zipcode, Length: 70, dtype: int64"
            ]
          },
          "metadata": {},
          "execution_count": 21
        }
      ]
    },
    {
      "cell_type": "code",
      "metadata": {
        "colab": {
          "base_uri": "https://localhost:8080/"
        },
        "id": "y4hWz27SZBkr",
        "outputId": "75830155-95ff-4fe3-97f2-4baee15d6fd8"
      },
      "source": [
        "#frequency table for bedroom column\n",
        "housing_df['bedrooms'].value_counts()\n",
        "#most houses have 3 bedrooms\n"
      ],
      "execution_count": 22,
      "outputs": [
        {
          "output_type": "execute_result",
          "data": {
            "text/plain": [
              "3     9824\n",
              "4     6882\n",
              "2     2760\n",
              "5     1601\n",
              "6      272\n",
              "1      199\n",
              "7       38\n",
              "8       13\n",
              "0       13\n",
              "9        6\n",
              "10       3\n",
              "11       1\n",
              "33       1\n",
              "Name: bedrooms, dtype: int64"
            ]
          },
          "metadata": {},
          "execution_count": 22
        }
      ]
    },
    {
      "cell_type": "code",
      "metadata": {
        "colab": {
          "base_uri": "https://localhost:8080/"
        },
        "id": "ZFiDdG_uZVCW",
        "outputId": "3d05d716-2152-4f50-c456-cf21f646824a"
      },
      "source": [
        "#frequency table for bathroom column\n",
        "housing_df['bathrooms'].value_counts()\n",
        "#most houses seems to be having 2.5 bathroom"
      ],
      "execution_count": 23,
      "outputs": [
        {
          "output_type": "execute_result",
          "data": {
            "text/plain": [
              "2.50    5380\n",
              "1.00    3852\n",
              "1.75    3048\n",
              "2.25    2047\n",
              "2.00    1930\n",
              "1.50    1446\n",
              "2.75    1185\n",
              "3.00     753\n",
              "3.50     731\n",
              "3.25     589\n",
              "3.75     155\n",
              "4.00     136\n",
              "4.50     100\n",
              "4.25      79\n",
              "0.75      72\n",
              "4.75      23\n",
              "5.00      21\n",
              "5.25      13\n",
              "0.00      10\n",
              "5.50      10\n",
              "1.25       9\n",
              "6.00       6\n",
              "0.50       4\n",
              "5.75       4\n",
              "8.00       2\n",
              "6.25       2\n",
              "6.50       2\n",
              "6.75       2\n",
              "7.50       1\n",
              "7.75       1\n",
              "Name: bathrooms, dtype: int64"
            ]
          },
          "metadata": {},
          "execution_count": 23
        }
      ]
    },
    {
      "cell_type": "code",
      "metadata": {
        "colab": {
          "base_uri": "https://localhost:8080/"
        },
        "id": "Dya_jBBJaHAW",
        "outputId": "b6551026-d67b-4e80-9e06-75454c20ef0f"
      },
      "source": [
        "#finding kyrtosis\n",
        "housing_df.kurt()\n",
        "#the sqft_lot,price,bedrooms,waterfront,view,sqft_lot15 and renovation age are leptokurtic  as they have high kurtosis\n",
        "#the zipcode,floors,condition,house age are platykurtic as they have low kurtosis"
      ],
      "execution_count": 14,
      "outputs": [
        {
          "output_type": "execute_result",
          "data": {
            "text/plain": [
              "price              34.522444\n",
              "bedrooms           49.063653\n",
              "bathrooms           1.279902\n",
              "sqft_living         5.243093\n",
              "sqft_lot          285.077820\n",
              "floors             -0.484723\n",
              "waterfront        127.632494\n",
              "view               10.893022\n",
              "condition           0.525764\n",
              "grade               1.190932\n",
              "sqft_above          3.402304\n",
              "sqft_basement       2.715574\n",
              "zipcode            -0.853479\n",
              "sqft_living15       1.597096\n",
              "sqft_lot15        150.763110\n",
              "house_age          -0.657408\n",
              "renovation_age     55.431446\n",
              "dtype: float64"
            ]
          },
          "metadata": {},
          "execution_count": 14
        }
      ]
    },
    {
      "cell_type": "code",
      "metadata": {
        "colab": {
          "base_uri": "https://localhost:8080/"
        },
        "id": "fNVoatDqcGpa",
        "outputId": "3f14b777-a090-4a19-aaa1-753003ea5418"
      },
      "source": [
        "# finding skweness\n",
        "housing_df.skew()\n",
        "#most variables are highly skwed to the right as they have skewness of value greater than 2"
      ],
      "execution_count": 25,
      "outputs": [
        {
          "output_type": "execute_result",
          "data": {
            "text/plain": [
              "price              4.021716\n",
              "bedrooms           1.974300\n",
              "bathrooms          0.511108\n",
              "sqft_living        1.471555\n",
              "sqft_lot          13.060019\n",
              "floors             0.616177\n",
              "waterfront        11.385108\n",
              "view               3.395750\n",
              "condition          1.032805\n",
              "grade              0.771103\n",
              "sqft_above         1.446664\n",
              "sqft_basement      1.577965\n",
              "zipcode            0.405661\n",
              "sqft_living15      1.108181\n",
              "sqft_lot15         9.506743\n",
              "house_age          0.469805\n",
              "renovation_age     6.946667\n",
              "dtype: float64"
            ]
          },
          "metadata": {},
          "execution_count": 25
        }
      ]
    },
    {
      "cell_type": "markdown",
      "metadata": {
        "id": "VQvxWn2QcvkT"
      },
      "source": [
        "2.Bivariate Analysis"
      ]
    },
    {
      "cell_type": "code",
      "metadata": {
        "colab": {
          "base_uri": "https://localhost:8080/",
          "height": 582
        },
        "id": "NAg0Kl78c1fA",
        "outputId": "7c46615f-3be0-4335-af07-2e47d9284f6b"
      },
      "source": [
        "#correlation matrix\n",
        "matrix = housing_df.corr()\n",
        "matrix\n",
        "#visualising correlation using heatmap\n",
        "sns.set(rc = {'figure.figsize':(15,8)})\n",
        "sns.heatmap(matrix,annot=True)"
      ],
      "execution_count": 24,
      "outputs": [
        {
          "output_type": "execute_result",
          "data": {
            "text/plain": [
              "<matplotlib.axes._subplots.AxesSubplot at 0x7f39e400d1d0>"
            ]
          },
          "metadata": {},
          "execution_count": 24
        },
        {
          "output_type": "display_data",
          "data": {
            "image/png": "[encoded data removed]",
            "text/plain": [
              "<Figure size 1080x576 with 2 Axes>"
            ]
          },
          "metadata": {}
        }
      ]
    },
    {
      "cell_type": "code",
      "metadata": {
        "id": "rGEFWR9pgGmz"
      },
      "source": [
        "#removing columns with high correlation\n",
        "housing_df.drop(['sqft_living','sqft_above'],axis =1,inplace=True)"
      ],
      "execution_count": 23,
      "outputs": []
    },
    {
      "cell_type": "code",
      "metadata": {
        "colab": {
          "base_uri": "https://localhost:8080/",
          "height": 540
        },
        "id": "v21o_A9Uf3ia",
        "outputId": "0b30da0a-8dfa-4d98-b159-3e9e203693f1"
      },
      "source": [
        "#finding the VIF of the variables\n",
        "pd.DataFrame(np.linalg.inv(matrix.values), index = matrix.index, columns=matrix.columns)\n",
        "#there is multicollinearity since they variables with VIF greater than 5\n",
        "#we drop all the columns with VIF greater than 5\n",
        "#sqft_living and sqft_above have VIF greater than 5 hence we drop sqft_above since it has a lower correlation than sqft_living\n",
        "#sqft_living has VIF greater than 5 so we drop it"
      ],
      "execution_count": 25,
      "outputs": [
        {
          "output_type": "execute_result",
          "data": {
            "text/html": [
              "<div>\n",
              "<style scoped>\n",
              "    .dataframe tbody tr th:only-of-type {\n",
              "        vertical-align: middle;\n",
              "    }\n",
              "\n",
              "    .dataframe tbody tr th {\n",
              "        vertical-align: top;\n",
              "    }\n",
              "\n",
              "    .dataframe thead th {\n",
              "        text-align: right;\n",
              "    }\n",
              "</style>\n",
              "<table border=\"1\" class=\"dataframe\">\n",
              "  <thead>\n",
              "    <tr style=\"text-align: right;\">\n",
              "      <th></th>\n",
              "      <th>price</th>\n",
              "      <th>bedrooms</th>\n",
              "      <th>bathrooms</th>\n",
              "      <th>sqft_lot</th>\n",
              "      <th>floors</th>\n",
              "      <th>waterfront</th>\n",
              "      <th>view</th>\n",
              "      <th>condition</th>\n",
              "      <th>grade</th>\n",
              "      <th>sqft_basement</th>\n",
              "      <th>zipcode</th>\n",
              "      <th>sqft_living15</th>\n",
              "      <th>sqft_lot15</th>\n",
              "      <th>house_age</th>\n",
              "      <th>renovation_age</th>\n",
              "    </tr>\n",
              "  </thead>\n",
              "  <tbody>\n",
              "    <tr>\n",
              "      <th>price</th>\n",
              "      <td>2.677256</td>\n",
              "      <td>0.091974</td>\n",
              "      <td>-0.518737</td>\n",
              "      <td>-0.045161</td>\n",
              "      <td>-0.201110</td>\n",
              "      <td>-0.389666</td>\n",
              "      <td>-0.236547</td>\n",
              "      <td>-0.075919</td>\n",
              "      <td>-1.328043</td>\n",
              "      <td>-0.263294</td>\n",
              "      <td>0.025046</td>\n",
              "      <td>-0.439008</td>\n",
              "      <td>0.066528</td>\n",
              "      <td>-0.862498</td>\n",
              "      <td>0.011622</td>\n",
              "    </tr>\n",
              "    <tr>\n",
              "      <th>bedrooms</th>\n",
              "      <td>0.091974</td>\n",
              "      <td>1.492863</td>\n",
              "      <td>-0.703265</td>\n",
              "      <td>0.004628</td>\n",
              "      <td>-0.036892</td>\n",
              "      <td>0.028847</td>\n",
              "      <td>0.106511</td>\n",
              "      <td>-0.050740</td>\n",
              "      <td>0.001752</td>\n",
              "      <td>-0.240975</td>\n",
              "      <td>0.103283</td>\n",
              "      <td>-0.271750</td>\n",
              "      <td>0.050243</td>\n",
              "      <td>-0.222791</td>\n",
              "      <td>0.038228</td>\n",
              "    </tr>\n",
              "    <tr>\n",
              "      <th>bathrooms</th>\n",
              "      <td>-0.518737</td>\n",
              "      <td>-0.703265</td>\n",
              "      <td>3.091107</td>\n",
              "      <td>-0.066635</td>\n",
              "      <td>-0.766802</td>\n",
              "      <td>0.055218</td>\n",
              "      <td>0.012684</td>\n",
              "      <td>-0.082496</td>\n",
              "      <td>-0.432588</td>\n",
              "      <td>-0.681577</td>\n",
              "      <td>0.038080</td>\n",
              "      <td>-0.213870</td>\n",
              "      <td>0.006377</td>\n",
              "      <td>0.929992</td>\n",
              "      <td>-0.181718</td>\n",
              "    </tr>\n",
              "    <tr>\n",
              "      <th>sqft_lot</th>\n",
              "      <td>-0.045161</td>\n",
              "      <td>0.004628</td>\n",
              "      <td>-0.066635</td>\n",
              "      <td>2.080577</td>\n",
              "      <td>0.044362</td>\n",
              "      <td>0.031062</td>\n",
              "      <td>-0.052341</td>\n",
              "      <td>0.028439</td>\n",
              "      <td>-0.061127</td>\n",
              "      <td>0.041073</td>\n",
              "      <td>0.064818</td>\n",
              "      <td>0.073213</td>\n",
              "      <td>-1.482897</td>\n",
              "      <td>-0.048313</td>\n",
              "      <td>0.000514</td>\n",
              "    </tr>\n",
              "    <tr>\n",
              "      <th>floors</th>\n",
              "      <td>-0.201110</td>\n",
              "      <td>-0.036892</td>\n",
              "      <td>-0.766802</td>\n",
              "      <td>0.044362</td>\n",
              "      <td>1.958693</td>\n",
              "      <td>0.014506</td>\n",
              "      <td>-0.013009</td>\n",
              "      <td>0.110077</td>\n",
              "      <td>-0.342105</td>\n",
              "      <td>0.742682</td>\n",
              "      <td>-0.256442</td>\n",
              "      <td>0.179113</td>\n",
              "      <td>0.064758</td>\n",
              "      <td>0.434704</td>\n",
              "      <td>-0.083862</td>\n",
              "    </tr>\n",
              "    <tr>\n",
              "      <th>waterfront</th>\n",
              "      <td>-0.389666</td>\n",
              "      <td>0.028847</td>\n",
              "      <td>0.055218</td>\n",
              "      <td>0.031062</td>\n",
              "      <td>0.014506</td>\n",
              "      <td>1.260042</td>\n",
              "      <td>-0.458778</td>\n",
              "      <td>0.000924</td>\n",
              "      <td>0.203192</td>\n",
              "      <td>0.062260</td>\n",
              "      <td>0.012076</td>\n",
              "      <td>0.091762</td>\n",
              "      <td>-0.030863</td>\n",
              "      <td>0.135325</td>\n",
              "      <td>-0.084654</td>\n",
              "    </tr>\n",
              "    <tr>\n",
              "      <th>view</th>\n",
              "      <td>-0.236547</td>\n",
              "      <td>0.106511</td>\n",
              "      <td>0.012684</td>\n",
              "      <td>-0.052341</td>\n",
              "      <td>-0.013009</td>\n",
              "      <td>-0.458778</td>\n",
              "      <td>1.440315</td>\n",
              "      <td>-0.018810</td>\n",
              "      <td>-0.041903</td>\n",
              "      <td>-0.242479</td>\n",
              "      <td>-0.144282</td>\n",
              "      <td>-0.247210</td>\n",
              "      <td>-0.008701</td>\n",
              "      <td>-0.065660</td>\n",
              "      <td>-0.043703</td>\n",
              "    </tr>\n",
              "    <tr>\n",
              "      <th>condition</th>\n",
              "      <td>-0.075919</td>\n",
              "      <td>-0.050740</td>\n",
              "      <td>-0.082496</td>\n",
              "      <td>0.028439</td>\n",
              "      <td>0.110077</td>\n",
              "      <td>0.000924</td>\n",
              "      <td>-0.018810</td>\n",
              "      <td>1.226170</td>\n",
              "      <td>0.024751</td>\n",
              "      <td>-0.095667</td>\n",
              "      <td>0.171572</td>\n",
              "      <td>0.096200</td>\n",
              "      <td>-0.027443</td>\n",
              "      <td>-0.473697</td>\n",
              "      <td>0.127322</td>\n",
              "    </tr>\n",
              "    <tr>\n",
              "      <th>grade</th>\n",
              "      <td>-1.328043</td>\n",
              "      <td>0.001752</td>\n",
              "      <td>-0.432588</td>\n",
              "      <td>-0.061127</td>\n",
              "      <td>-0.342105</td>\n",
              "      <td>0.203192</td>\n",
              "      <td>-0.041903</td>\n",
              "      <td>0.024751</td>\n",
              "      <td>3.446011</td>\n",
              "      <td>0.017513</td>\n",
              "      <td>-0.124265</td>\n",
              "      <td>-1.133148</td>\n",
              "      <td>0.014843</td>\n",
              "      <td>0.741031</td>\n",
              "      <td>-0.007628</td>\n",
              "    </tr>\n",
              "    <tr>\n",
              "      <th>sqft_basement</th>\n",
              "      <td>-0.263294</td>\n",
              "      <td>-0.240975</td>\n",
              "      <td>-0.681577</td>\n",
              "      <td>0.041073</td>\n",
              "      <td>0.742682</td>\n",
              "      <td>0.062260</td>\n",
              "      <td>-0.242479</td>\n",
              "      <td>-0.095667</td>\n",
              "      <td>0.017513</td>\n",
              "      <td>1.629163</td>\n",
              "      <td>-0.186576</td>\n",
              "      <td>0.045275</td>\n",
              "      <td>0.007800</td>\n",
              "      <td>-0.117988</td>\n",
              "      <td>0.019903</td>\n",
              "    </tr>\n",
              "    <tr>\n",
              "      <th>zipcode</th>\n",
              "      <td>0.025046</td>\n",
              "      <td>0.103283</td>\n",
              "      <td>0.038080</td>\n",
              "      <td>0.064818</td>\n",
              "      <td>-0.256442</td>\n",
              "      <td>0.012076</td>\n",
              "      <td>-0.144282</td>\n",
              "      <td>0.171572</td>\n",
              "      <td>-0.124265</td>\n",
              "      <td>-0.186576</td>\n",
              "      <td>1.303560</td>\n",
              "      <td>0.351429</td>\n",
              "      <td>0.061045</td>\n",
              "      <td>-0.516779</td>\n",
              "      <td>0.060371</td>\n",
              "    </tr>\n",
              "    <tr>\n",
              "      <th>sqft_living15</th>\n",
              "      <td>-0.439008</td>\n",
              "      <td>-0.271750</td>\n",
              "      <td>-0.213870</td>\n",
              "      <td>0.073213</td>\n",
              "      <td>0.179113</td>\n",
              "      <td>0.091762</td>\n",
              "      <td>-0.247210</td>\n",
              "      <td>0.096200</td>\n",
              "      <td>-1.133148</td>\n",
              "      <td>0.045275</td>\n",
              "      <td>0.351429</td>\n",
              "      <td>2.445785</td>\n",
              "      <td>-0.232206</td>\n",
              "      <td>0.034417</td>\n",
              "      <td>0.029966</td>\n",
              "    </tr>\n",
              "    <tr>\n",
              "      <th>sqft_lot15</th>\n",
              "      <td>0.066528</td>\n",
              "      <td>0.050243</td>\n",
              "      <td>0.006377</td>\n",
              "      <td>-1.482897</td>\n",
              "      <td>0.064758</td>\n",
              "      <td>-0.030863</td>\n",
              "      <td>-0.008701</td>\n",
              "      <td>-0.027443</td>\n",
              "      <td>0.014843</td>\n",
              "      <td>0.007800</td>\n",
              "      <td>0.061045</td>\n",
              "      <td>-0.232206</td>\n",
              "      <td>2.113030</td>\n",
              "      <td>0.041454</td>\n",
              "      <td>-0.019459</td>\n",
              "    </tr>\n",
              "    <tr>\n",
              "      <th>house_age</th>\n",
              "      <td>-0.862498</td>\n",
              "      <td>-0.222791</td>\n",
              "      <td>0.929992</td>\n",
              "      <td>-0.048313</td>\n",
              "      <td>0.434704</td>\n",
              "      <td>0.135325</td>\n",
              "      <td>-0.065660</td>\n",
              "      <td>-0.473697</td>\n",
              "      <td>0.741031</td>\n",
              "      <td>-0.117988</td>\n",
              "      <td>-0.516779</td>\n",
              "      <td>0.034417</td>\n",
              "      <td>0.041454</td>\n",
              "      <td>2.400183</td>\n",
              "      <td>-0.419736</td>\n",
              "    </tr>\n",
              "    <tr>\n",
              "      <th>renovation_age</th>\n",
              "      <td>0.011622</td>\n",
              "      <td>0.038228</td>\n",
              "      <td>-0.181718</td>\n",
              "      <td>0.000514</td>\n",
              "      <td>-0.083862</td>\n",
              "      <td>-0.084654</td>\n",
              "      <td>-0.043703</td>\n",
              "      <td>0.127322</td>\n",
              "      <td>-0.007628</td>\n",
              "      <td>0.019903</td>\n",
              "      <td>0.060371</td>\n",
              "      <td>0.029966</td>\n",
              "      <td>-0.019459</td>\n",
              "      <td>-0.419736</td>\n",
              "      <td>1.101932</td>\n",
              "    </tr>\n",
              "  </tbody>\n",
              "</table>\n",
              "</div>"
            ],
            "text/plain": [
              "                   price  bedrooms  ...  house_age  renovation_age\n",
              "price           2.677256  0.091974  ...  -0.862498        0.011622\n",
              "bedrooms        0.091974  1.492863  ...  -0.222791        0.038228\n",
              "bathrooms      -0.518737 -0.703265  ...   0.929992       -0.181718\n",
              "sqft_lot       -0.045161  0.004628  ...  -0.048313        0.000514\n",
              "floors         -0.201110 -0.036892  ...   0.434704       -0.083862\n",
              "waterfront     -0.389666  0.028847  ...   0.135325       -0.084654\n",
              "view           -0.236547  0.106511  ...  -0.065660       -0.043703\n",
              "condition      -0.075919 -0.050740  ...  -0.473697        0.127322\n",
              "grade          -1.328043  0.001752  ...   0.741031       -0.007628\n",
              "sqft_basement  -0.263294 -0.240975  ...  -0.117988        0.019903\n",
              "zipcode         0.025046  0.103283  ...  -0.516779        0.060371\n",
              "sqft_living15  -0.439008 -0.271750  ...   0.034417        0.029966\n",
              "sqft_lot15      0.066528  0.050243  ...   0.041454       -0.019459\n",
              "house_age      -0.862498 -0.222791  ...   2.400183       -0.419736\n",
              "renovation_age  0.011622  0.038228  ...  -0.419736        1.101932\n",
              "\n",
              "[15 rows x 15 columns]"
            ]
          },
          "metadata": {},
          "execution_count": 25
        }
      ]
    },
    {
      "cell_type": "code",
      "metadata": {
        "colab": {
          "base_uri": "https://localhost:8080/",
          "height": 488
        },
        "id": "HJn_kdthjXOj",
        "outputId": "07f2da59-9bd0-4745-a94d-cba36209c1d0"
      },
      "source": [
        " # Separating our target label (price) from the other features\n",
        "features= housing_df.drop(['price'], 1)\n",
        "house_label = housing_df['price']\n",
        "\n",
        "# Subject our features to LDA model\n",
        "\n",
        "\n",
        "\n",
        "# Create an instance of LDA\n",
        "lda = LDA()\n",
        "\n",
        "lda_= lda.fit(features, house_label)\n",
        "lda_feat = lda_.transform(features)\n",
        "\n",
        "# Display the coeficients of the reducted columns\n",
        "lda_.coef_\n",
        "\n",
        "# Since the coefficients are in an array, we needto create a dataframe so that we can extract the name of the columns\n",
        "f_imp = pd.DataFrame(index=features.columns.values, data=lda_.coef_[0].T)\n",
        "f_imp.sort_values(0, ascending=False)"
      ],
      "execution_count": 26,
      "outputs": [
        {
          "output_type": "execute_result",
          "data": {
            "text/html": [
              "<div>\n",
              "<style scoped>\n",
              "    .dataframe tbody tr th:only-of-type {\n",
              "        vertical-align: middle;\n",
              "    }\n",
              "\n",
              "    .dataframe tbody tr th {\n",
              "        vertical-align: top;\n",
              "    }\n",
              "\n",
              "    .dataframe thead th {\n",
              "        text-align: right;\n",
              "    }\n",
              "</style>\n",
              "<table border=\"1\" class=\"dataframe\">\n",
              "  <thead>\n",
              "    <tr style=\"text-align: right;\">\n",
              "      <th></th>\n",
              "      <th>0</th>\n",
              "    </tr>\n",
              "  </thead>\n",
              "  <tbody>\n",
              "    <tr>\n",
              "      <th>floors</th>\n",
              "      <td>1.844303</td>\n",
              "    </tr>\n",
              "    <tr>\n",
              "      <th>renovation_age</th>\n",
              "      <td>0.009398</td>\n",
              "    </tr>\n",
              "    <tr>\n",
              "      <th>sqft_living15</th>\n",
              "      <td>0.002033</td>\n",
              "    </tr>\n",
              "    <tr>\n",
              "      <th>sqft_basement</th>\n",
              "      <td>0.001857</td>\n",
              "    </tr>\n",
              "    <tr>\n",
              "      <th>sqft_lot15</th>\n",
              "      <td>0.000043</td>\n",
              "    </tr>\n",
              "    <tr>\n",
              "      <th>sqft_lot</th>\n",
              "      <td>-0.000002</td>\n",
              "    </tr>\n",
              "    <tr>\n",
              "      <th>view</th>\n",
              "      <td>-0.020798</td>\n",
              "    </tr>\n",
              "    <tr>\n",
              "      <th>zipcode</th>\n",
              "      <td>-0.029440</td>\n",
              "    </tr>\n",
              "    <tr>\n",
              "      <th>house_age</th>\n",
              "      <td>-0.159228</td>\n",
              "    </tr>\n",
              "    <tr>\n",
              "      <th>bedrooms</th>\n",
              "      <td>-1.683580</td>\n",
              "    </tr>\n",
              "    <tr>\n",
              "      <th>condition</th>\n",
              "      <td>-1.777193</td>\n",
              "    </tr>\n",
              "    <tr>\n",
              "      <th>bathrooms</th>\n",
              "      <td>-4.608228</td>\n",
              "    </tr>\n",
              "    <tr>\n",
              "      <th>waterfront</th>\n",
              "      <td>-9.159153</td>\n",
              "    </tr>\n",
              "    <tr>\n",
              "      <th>grade</th>\n",
              "      <td>-10.114855</td>\n",
              "    </tr>\n",
              "  </tbody>\n",
              "</table>\n",
              "</div>"
            ],
            "text/plain": [
              "                        0\n",
              "floors           1.844303\n",
              "renovation_age   0.009398\n",
              "sqft_living15    0.002033\n",
              "sqft_basement    0.001857\n",
              "sqft_lot15       0.000043\n",
              "sqft_lot        -0.000002\n",
              "view            -0.020798\n",
              "zipcode         -0.029440\n",
              "house_age       -0.159228\n",
              "bedrooms        -1.683580\n",
              "condition       -1.777193\n",
              "bathrooms       -4.608228\n",
              "waterfront      -9.159153\n",
              "grade          -10.114855"
            ]
          },
          "metadata": {},
          "execution_count": 26
        }
      ]
    },
    {
      "cell_type": "markdown",
      "metadata": {
        "id": "vTbdjSrhVIiT"
      },
      "source": [
        "## 7. Implementing the Solution"
      ]
    },
    {
      "cell_type": "markdown",
      "metadata": {
        "id": "dTt3UXX-xgF5"
      },
      "source": [
        "1.Multiple linear regression"
      ]
    },
    {
      "cell_type": "code",
      "metadata": {
        "id": "PJLZaRzJXJ3w",
        "colab": {
          "base_uri": "https://localhost:8080/",
          "height": 488
        },
        "outputId": "043e26c4-5651-49a4-ff27-9f1ba5f5ca54"
      },
      "source": [
        "# Implementing the Solution\n",
        "# \n",
        "#we split our data into label and features\n",
        "X = housing_df.drop(['price'],axis = 1)\n",
        "y = housing_df['price']\n",
        "\n",
        "#we split train and test ,test = 30%\n",
        "X_train,X_test,y_train,y_test = train_test_split(X,y,test_size=0.3,random_state= 0)\n",
        "#we train model using regression\n",
        "reg = LinearRegression()\n",
        "reg.fit(X_train,y_train)\n",
        "#we make prediction\n",
        "y_pred = reg.predict(X_test)\n",
        "#getting the linear coefficients\n",
        "X = pd.DataFrame(X)\n",
        "coeff_linear = pd.DataFrame(reg.coef_,X.columns,columns=['corfficients'])\n",
        "coeff_linear"
      ],
      "execution_count": 27,
      "outputs": [
        {
          "output_type": "execute_result",
          "data": {
            "text/html": [
              "<div>\n",
              "<style scoped>\n",
              "    .dataframe tbody tr th:only-of-type {\n",
              "        vertical-align: middle;\n",
              "    }\n",
              "\n",
              "    .dataframe tbody tr th {\n",
              "        vertical-align: top;\n",
              "    }\n",
              "\n",
              "    .dataframe thead th {\n",
              "        text-align: right;\n",
              "    }\n",
              "</style>\n",
              "<table border=\"1\" class=\"dataframe\">\n",
              "  <thead>\n",
              "    <tr style=\"text-align: right;\">\n",
              "      <th></th>\n",
              "      <th>corfficients</th>\n",
              "    </tr>\n",
              "  </thead>\n",
              "  <tbody>\n",
              "    <tr>\n",
              "      <th>bedrooms</th>\n",
              "      <td>-10441.630061</td>\n",
              "    </tr>\n",
              "    <tr>\n",
              "      <th>bathrooms</th>\n",
              "      <td>85041.892680</td>\n",
              "    </tr>\n",
              "    <tr>\n",
              "      <th>sqft_lot</th>\n",
              "      <td>0.237310</td>\n",
              "    </tr>\n",
              "    <tr>\n",
              "      <th>floors</th>\n",
              "      <td>54365.597080</td>\n",
              "    </tr>\n",
              "    <tr>\n",
              "      <th>waterfront</th>\n",
              "      <td>630681.021372</td>\n",
              "    </tr>\n",
              "    <tr>\n",
              "      <th>view</th>\n",
              "      <td>43533.307166</td>\n",
              "    </tr>\n",
              "    <tr>\n",
              "      <th>condition</th>\n",
              "      <td>16620.114811</td>\n",
              "    </tr>\n",
              "    <tr>\n",
              "      <th>grade</th>\n",
              "      <td>153035.000289</td>\n",
              "    </tr>\n",
              "    <tr>\n",
              "      <th>sqft_basement</th>\n",
              "      <td>83.682362</td>\n",
              "    </tr>\n",
              "    <tr>\n",
              "      <th>zipcode</th>\n",
              "      <td>-2.383293</td>\n",
              "    </tr>\n",
              "    <tr>\n",
              "      <th>sqft_living15</th>\n",
              "      <td>91.038870</td>\n",
              "    </tr>\n",
              "    <tr>\n",
              "      <th>sqft_lot15</th>\n",
              "      <td>-0.396287</td>\n",
              "    </tr>\n",
              "    <tr>\n",
              "      <th>house_age</th>\n",
              "      <td>3940.021126</td>\n",
              "    </tr>\n",
              "    <tr>\n",
              "      <th>renovation_age</th>\n",
              "      <td>-376.907538</td>\n",
              "    </tr>\n",
              "  </tbody>\n",
              "</table>\n",
              "</div>"
            ],
            "text/plain": [
              "                 corfficients\n",
              "bedrooms        -10441.630061\n",
              "bathrooms        85041.892680\n",
              "sqft_lot             0.237310\n",
              "floors           54365.597080\n",
              "waterfront      630681.021372\n",
              "view             43533.307166\n",
              "condition        16620.114811\n",
              "grade           153035.000289\n",
              "sqft_basement       83.682362\n",
              "zipcode             -2.383293\n",
              "sqft_living15       91.038870\n",
              "sqft_lot15          -0.396287\n",
              "house_age         3940.021126\n",
              "renovation_age    -376.907538"
            ]
          },
          "metadata": {},
          "execution_count": 27
        }
      ]
    },
    {
      "cell_type": "code",
      "metadata": {
        "colab": {
          "base_uri": "https://localhost:8080/"
        },
        "id": "GCB-Xmf6xOSu",
        "outputId": "fef9ffaf-1b27-4c10-c313-3903b72310e4"
      },
      "source": [
        "#validating our model using R2 and RMSE\n",
        "print('Root Mean Squared Error:', np.sqrt(metrics.mean_squared_error(y_test, y_pred)))\n",
        "\n",
        "print('Root Mean Squared Error:', metrics.r2_score(y_test, y_pred))\n",
        "#our variables describe 61% of our output variables which is not a very good value\n",
        "#the RMSE value is also quite very high"
      ],
      "execution_count": 28,
      "outputs": [
        {
          "output_type": "stream",
          "name": "stdout",
          "text": [
            "Root Mean Squared Error: 231495.69006997565\n",
            "Root Mean Squared Error: 0.6101423065961382\n"
          ]
        }
      ]
    },
    {
      "cell_type": "markdown",
      "metadata": {
        "id": "b2_Si-CL1XxF"
      },
      "source": [
        "checking heteroscedasticity using Bartlett’s test"
      ]
    },
    {
      "cell_type": "code",
      "metadata": {
        "colab": {
          "base_uri": "https://localhost:8080/",
          "height": 300
        },
        "id": "44GHkUoi1bPb",
        "outputId": "7f5eac67-5260-44f0-e209-dcccaad39ea8"
      },
      "source": [
        "residuals = np.subtract(y_pred, y_test)\n",
        "\n",
        "pd.DataFrame(residuals).describe()"
      ],
      "execution_count": 30,
      "outputs": [
        {
          "output_type": "execute_result",
          "data": {
            "text/html": [
              "<div>\n",
              "<style scoped>\n",
              "    .dataframe tbody tr th:only-of-type {\n",
              "        vertical-align: middle;\n",
              "    }\n",
              "\n",
              "    .dataframe tbody tr th {\n",
              "        vertical-align: top;\n",
              "    }\n",
              "\n",
              "    .dataframe thead th {\n",
              "        text-align: right;\n",
              "    }\n",
              "</style>\n",
              "<table border=\"1\" class=\"dataframe\">\n",
              "  <thead>\n",
              "    <tr style=\"text-align: right;\">\n",
              "      <th></th>\n",
              "      <th>price</th>\n",
              "    </tr>\n",
              "  </thead>\n",
              "  <tbody>\n",
              "    <tr>\n",
              "      <th>count</th>\n",
              "      <td>6.484000e+03</td>\n",
              "    </tr>\n",
              "    <tr>\n",
              "      <th>mean</th>\n",
              "      <td>6.037783e+02</td>\n",
              "    </tr>\n",
              "    <tr>\n",
              "      <th>std</th>\n",
              "      <td>2.315128e+05</td>\n",
              "    </tr>\n",
              "    <tr>\n",
              "      <th>min</th>\n",
              "      <td>-4.731746e+06</td>\n",
              "    </tr>\n",
              "    <tr>\n",
              "      <th>25%</th>\n",
              "      <td>-8.577551e+04</td>\n",
              "    </tr>\n",
              "    <tr>\n",
              "      <th>50%</th>\n",
              "      <td>1.451848e+04</td>\n",
              "    </tr>\n",
              "    <tr>\n",
              "      <th>75%</th>\n",
              "      <td>1.126574e+05</td>\n",
              "    </tr>\n",
              "    <tr>\n",
              "      <th>max</th>\n",
              "      <td>1.329609e+06</td>\n",
              "    </tr>\n",
              "  </tbody>\n",
              "</table>\n",
              "</div>"
            ],
            "text/plain": [
              "              price\n",
              "count  6.484000e+03\n",
              "mean   6.037783e+02\n",
              "std    2.315128e+05\n",
              "min   -4.731746e+06\n",
              "25%   -8.577551e+04\n",
              "50%    1.451848e+04\n",
              "75%    1.126574e+05\n",
              "max    1.329609e+06"
            ]
          },
          "metadata": {},
          "execution_count": 30
        }
      ]
    },
    {
      "cell_type": "code",
      "metadata": {
        "colab": {
          "base_uri": "https://localhost:8080/",
          "height": 513
        },
        "id": "VQPHiluB1rKl",
        "outputId": "bb03a35c-5d61-4ced-cf5c-f572fd863fe2"
      },
      "source": [
        "#plotting residual against fitted values\n",
        "plt.scatter(y_pred, residuals, color='black')\n",
        "plt.ylabel('residual')\n",
        "plt.xlabel('fitted values')\n",
        "plt.axhline(y= residuals.mean(), color='blue', linewidth=1)\n",
        "plt.show()\n",
        "#our residuals are centered around the mean hence  the residuals have homogeneoues variance"
      ],
      "execution_count": 29,
      "outputs": [
        {
          "output_type": "display_data",
          "data": {
            "image/png": "[encoded data removed]",
            "text/plain": [
              "<Figure size 1080x576 with 1 Axes>"
            ]
          },
          "metadata": {}
        }
      ]
    },
    {
      "cell_type": "code",
      "metadata": {
        "colab": {
          "base_uri": "https://localhost:8080/"
        },
        "id": "66mQsY8810ml",
        "outputId": "6bace211-0661-415e-95c3-cd91b585d9ee"
      },
      "source": [
        "test_result, p_value = sp.stats.bartlett(y_pred, residuals)\n",
        "\n",
        "# To interpret the results we must also compute a critical value of the chi squared distribution\n",
        "degree_of_freedom = len(y_pred)-1\n",
        "probability = 1 - p_value\n",
        "\n",
        "critical_value = sp.stats.chi2.ppf(probability, degree_of_freedom)\n",
        "\n",
        "\n",
        "# If the test_result is greater than the critical value, then we reject our null\n",
        "# hypothesis. This would mean that there are patterns to the variance of the data\n",
        "\n",
        "# Otherwise, we can identify no patterns, and we accept the null hypothesis that \n",
        "# the variance is homogeneous across our data\n",
        "\n",
        "if (test_result > critical_value):\n",
        "  print('the variances are unequal, and the model should be reassessed')\n",
        "else:\n",
        "  print('the variances are homogeneous!')\n",
        "#from the test we conclude that the variance are homogeneous"
      ],
      "execution_count": 31,
      "outputs": [
        {
          "output_type": "stream",
          "name": "stdout",
          "text": [
            "the variances are homogeneous!\n"
          ]
        }
      ]
    },
    {
      "cell_type": "code",
      "metadata": {
        "id": "32NwkEymVYus"
      },
      "source": [
        "z = housing_df.drop(['price'],axis  = 1)"
      ],
      "execution_count": 32,
      "outputs": []
    },
    {
      "cell_type": "markdown",
      "metadata": {
        "id": "eJNygIuL29-2"
      },
      "source": [
        "2.Quantile regression"
      ]
    },
    {
      "cell_type": "code",
      "metadata": {
        "colab": {
          "base_uri": "https://localhost:8080/"
        },
        "id": "Q1lgfanT3BxL",
        "outputId": "def3c461-92f2-47a1-b52c-f7a134ca72d2"
      },
      "source": [
        "#finding the regression coefficients  \n",
        "model = smf.quantreg('y ~ z', housing_df)\n",
        "res = model.fit(q=.5)\n",
        "print(res.summary())\n",
        "#this are the coefficients of the variables at the 50th percentile\n",
        "# the coefficients for the variables are not the same as those for the the linear model\n",
        "#hence the use of quantile is justified\n",
        "#when stating the impact of the variables on the output we should include at nth quantile\n",
        "#our pseudo R- squared is between 0.2 and 0.4 hence means that our model has perfectly fitted the model"
      ],
      "execution_count": 56,
      "outputs": [
        {
          "output_type": "stream",
          "name": "stdout",
          "text": [
            "                         QuantReg Regression Results                          \n",
            "==============================================================================\n",
            "Dep. Variable:                      y   Pseudo R-squared:               0.3832\n",
            "Model:                       QuantReg   Bandwidth:                   2.417e+04\n",
            "Method:                 Least Squares   Sparsity:                    3.547e+05\n",
            "Date:                Sat, 27 Nov 2021   No. Observations:                21613\n",
            "Time:                        17:00:30   Df Residuals:                    21598\n",
            "                                        Df Model:                           14\n",
            "==============================================================================\n",
            "                 coef    std err          t      P>|t|      [0.025      0.975]\n",
            "------------------------------------------------------------------------------\n",
            "Intercept    -18.0262      1.387    -12.996      0.000     -20.745     -15.307\n",
            "z[0]       -1.132e+04   1578.722     -7.171      0.000   -1.44e+04   -8226.642\n",
            "z[1]        4.986e+04   2708.141     18.410      0.000    4.45e+04    5.52e+04\n",
            "z[2]           0.2099      0.042      5.002      0.000       0.128       0.292\n",
            "z[3]        6.573e+04   3074.817     21.376      0.000    5.97e+04    7.18e+04\n",
            "z[4]         232.5976   1.53e+04      0.015      0.988   -2.97e+04    3.02e+04\n",
            "z[5]        4.738e+04   1865.108     25.401      0.000    4.37e+04     5.1e+04\n",
            "z[6]        2.125e+04   2031.116     10.461      0.000    1.73e+04    2.52e+04\n",
            "z[7]        1.215e+05   1710.752     71.037      0.000    1.18e+05    1.25e+05\n",
            "z[8]          68.6716      3.423     20.062      0.000      61.962      75.381\n",
            "z[9]         -10.4779      0.131    -79.894      0.000     -10.735     -10.221\n",
            "z[10]         89.5655      2.656     33.717      0.000      84.359      94.772\n",
            "z[11]         -0.2010      0.064     -3.133      0.002      -0.327      -0.075\n",
            "z[12]       3249.4966     56.994     57.014      0.000    3137.784    3361.210\n",
            "z[13]       -183.8050    211.265     -0.870      0.384    -597.899     230.289\n",
            "==============================================================================\n",
            "\n",
            "The condition number is large, 2.11e+08. This might indicate that there are\n",
            "strong multicollinearity or other numerical problems.\n"
          ]
        }
      ]
    },
    {
      "cell_type": "markdown",
      "metadata": {
        "id": "M5jP9jTMWXKF"
      },
      "source": [
        "2.ridge regression\n"
      ]
    },
    {
      "cell_type": "code",
      "metadata": {
        "colab": {
          "base_uri": "https://localhost:8080/"
        },
        "id": "lsYu-nvRWWJn",
        "outputId": "91029bdd-818c-4478-b0d7-fa4e697e3c0b"
      },
      "source": [
        "#we use normalize as true in order to get better estimates \n",
        "#our estimator is the ridge and we are using cross validation of 10 folds to get the best value of our alpha and the best estimate score for our \n",
        "#metricd that is the mean square error\n",
        "#we are using the gridsearchcv for our cross validation\n",
        "ridge = Ridge(normalize=True)\n",
        "search = GridSearchCV(estimator=ridge,param_grid={'alpha':np.logspace(-1,6,8)},scoring='neg_mean_squared_error',n_jobs=1,refit=True,cv=10)\n",
        "search"
      ],
      "execution_count": 33,
      "outputs": [
        {
          "output_type": "execute_result",
          "data": {
            "text/plain": [
              "GridSearchCV(cv=10, estimator=Ridge(normalize=True), n_jobs=1,\n",
              "             param_grid={'alpha': array([1.e-01, 1.e+00, 1.e+01, 1.e+02, 1.e+03, 1.e+04, 1.e+05, 1.e+06])},\n",
              "             scoring='neg_mean_squared_error')"
            ]
          },
          "metadata": {},
          "execution_count": 33
        }
      ]
    },
    {
      "cell_type": "code",
      "metadata": {
        "colab": {
          "base_uri": "https://localhost:8080/"
        },
        "id": "SpKMX-G2iAuj",
        "outputId": "90a844c9-6258-48ec-ae59-dcbf169e15b8"
      },
      "source": [
        "#we search for the best value for alpha and the best score\n",
        "search.fit(X_train,y_train)\n",
        "search.best_params_\n",
        "{'alpha': 0.1}\n",
        "a =abs(search.best_score_) \n",
        "np.sqrt(a)\n",
        "#the rmse is 223697.15 which is better than the baseline model rmse which was 231495 and the alpha is 0.1\n"
      ],
      "execution_count": 34,
      "outputs": [
        {
          "output_type": "execute_result",
          "data": {
            "text/plain": [
              "223697.15278105694"
            ]
          },
          "metadata": {},
          "execution_count": 34
        }
      ]
    },
    {
      "cell_type": "code",
      "metadata": {
        "colab": {
          "base_uri": "https://localhost:8080/"
        },
        "id": "3OXBIO5rkUw3",
        "outputId": "d852ea13-daf6-466f-f7a6-80269460788a"
      },
      "source": [
        "#we fit the ridge model and use it to make prediction and find the rmse\n",
        "ridge = Ridge(normalize=True,alpha=0.1)\n",
        "ridge.fit(X_train,y_train)\n",
        "second_model = np.sqrt((mean_squared_error(y_true=y_test,y_pred=ridge.predict(X_test))))\n",
        "print(second_model)\n",
        "#the rmse is 226069 which is better than our baseline model rmse\n",
        "ridge.coef_\n",
        "#comparing the coefficients for ridge model and linear model\n",
        "coeff2 = pd.DataFrame(ridge.coef_,X.columns,columns=['coefficient'])\n",
        "coeff2\n",
        "a = pd.concat([coeff_linear,coeff2],axis = 1)\n",
        "print('R2:',metrics.r2_score(y_test,ridge.predict(X_test)))\n",
        "print(a)\n",
        "#the r2 and the rmse are worse that the one for the baseline model hence the ridge model has not really done a good job\n",
        "#the coefficients are not very different since the rmse and r2 are almost the same"
      ],
      "execution_count": 38,
      "outputs": [
        {
          "output_type": "stream",
          "name": "stdout",
          "text": [
            "233738.98775614696\n",
            "R2: 0.6025499031693007\n",
            "                 corfficients    coefficient\n",
            "bedrooms        -10441.630061   -2488.156866\n",
            "bathrooms        85041.892680   76765.238493\n",
            "sqft_lot             0.237310       0.200008\n",
            "floors           54365.597080   52721.286273\n",
            "waterfront      630681.021372  576307.014231\n",
            "view             43533.307166   49522.244562\n",
            "condition        16620.114811   21813.933795\n",
            "grade           153035.000289  128053.695273\n",
            "sqft_basement       83.682362      85.486173\n",
            "zipcode             -2.383293      84.769882\n",
            "sqft_living15       91.038870     100.651644\n",
            "sqft_lot15          -0.396287      -0.283730\n",
            "house_age         3940.021126    3042.699015\n",
            "renovation_age    -376.907538     409.190800\n"
          ]
        }
      ]
    },
    {
      "cell_type": "markdown",
      "metadata": {
        "id": "_kGoAhKvkx9G"
      },
      "source": [
        "3.lasso regression"
      ]
    },
    {
      "cell_type": "code",
      "metadata": {
        "colab": {
          "base_uri": "https://localhost:8080/"
        },
        "id": "aiED6sTIkvlK",
        "outputId": "fa5eff60-fc95-400f-f26c-8e47c81418a0"
      },
      "source": [
        "#we use normalize as true in order to get better estimates \n",
        "#our estimator is the ridge and we are using cross validation of 10 folds to get the best value of our alpha and the best estimate score for our \n",
        "#metricd that is the mean square error\n",
        "#we are using the gridsearchcv for our cross validation\n",
        "lasso = Lasso(normalize=True)\n",
        "search = GridSearchCV(estimator=lasso,param_grid={'alpha':np.logspace(0,7,8)},scoring='neg_mean_squared_error',n_jobs=1,refit=True,cv=10)\n",
        "search\n"
      ],
      "execution_count": 39,
      "outputs": [
        {
          "output_type": "execute_result",
          "data": {
            "text/plain": [
              "GridSearchCV(cv=10, estimator=Lasso(normalize=True), n_jobs=1,\n",
              "             param_grid={'alpha': array([1.e+00, 1.e+01, 1.e+02, 1.e+03, 1.e+04, 1.e+05, 1.e+06, 1.e+07])},\n",
              "             scoring='neg_mean_squared_error')"
            ]
          },
          "metadata": {},
          "execution_count": 39
        }
      ]
    },
    {
      "cell_type": "code",
      "metadata": {
        "colab": {
          "base_uri": "https://localhost:8080/"
        },
        "id": "gDBBqoB-3WrD",
        "outputId": "a1b6bbc1-a58a-4c3a-ad5a-7d771fdd1045"
      },
      "source": [
        "#we now get the best apha value and best score for our model\n",
        "search.fit(X_train,y_train)\n",
        "search.best_params_\n",
        "{'alpha': 0.1}\n",
        "a =abs(search.best_score_) \n",
        "np.sqrt(a)\n",
        "#the alpha is 0.1 and the rmse is 222228 which is better that the basemodel rmse"
      ],
      "execution_count": 40,
      "outputs": [
        {
          "output_type": "execute_result",
          "data": {
            "text/plain": [
              "222228.57464788138"
            ]
          },
          "metadata": {},
          "execution_count": 40
        }
      ]
    },
    {
      "cell_type": "code",
      "metadata": {
        "colab": {
          "base_uri": "https://localhost:8080/"
        },
        "id": "4gSPjS-J37X6",
        "outputId": "23a1a6ff-0c6d-41fe-bf75-0cb8513b3578"
      },
      "source": [
        "#fitting the lasso model to the data and testing it\n",
        "lasso = Lasso(normalize=True,alpha=0.1)\n",
        "lasso.fit(X_train,y_train)\n",
        "second_model = np.sqrt((mean_squared_error(y_true=y_test,y_pred=lasso.predict(X_test))))\n",
        "print(second_model)\n",
        "#the rmse is 231496 which is better than our baseline model rmse\n",
        "lasso.coef_\n",
        "#comparing the coefficients for lasso model and linear model\n",
        "coeff = pd.DataFrame(lasso.coef_,X.columns,columns=['coefficient'])\n",
        "coeff\n",
        "a = pd.concat([coeff_linear,coeff],axis = 1)\n",
        "print('r2:',metrics.r2_score(y_test,lasso.predict(X_test)))\n",
        "#r2 is 61% same as the baseline r2 meaning our model has done little difference\n",
        "print(a)\n",
        "#the co-efficients are nearly the same for the lasso and the linear meaning the model has little difference"
      ],
      "execution_count": 43,
      "outputs": [
        {
          "output_type": "stream",
          "name": "stdout",
          "text": [
            "231496.25177572056\n",
            "r2: 0.6101404146769263\n",
            "                 corfficients    coefficient\n",
            "bedrooms        -10441.630061  -10404.760632\n",
            "bathrooms        85041.892680   85013.376926\n",
            "sqft_lot             0.237310       0.236237\n",
            "floors           54365.597080   54313.197503\n",
            "waterfront      630681.021372  630568.315117\n",
            "view             43533.307166   43533.490044\n",
            "condition        16620.114811   16611.087813\n",
            "grade           153035.000289  153032.803802\n",
            "sqft_basement       83.682362      83.646652\n",
            "zipcode             -2.383293      -1.919859\n",
            "sqft_living15       91.038870      91.025127\n",
            "sqft_lot15          -0.396287      -0.394498\n",
            "house_age         3940.021126    3938.545634\n",
            "renovation_age    -376.907538    -373.309989\n"
          ]
        }
      ]
    },
    {
      "cell_type": "markdown",
      "metadata": {
        "id": "iDaejMJR52f6"
      },
      "source": [
        "4.elastic net regression"
      ]
    },
    {
      "cell_type": "code",
      "metadata": {
        "id": "hy-Uhg5s50FB"
      },
      "source": [
        "#we normalize the data in order to get better estimates\n",
        "# the parameter we are getting is alpha and l1_ratio which is the ratio of l1 to l2 since elastic has both l1 and l2 penalty\n",
        "#the scoring we are getting is the mse.we are finding it using crossvalidation with 10 folds using the gridsearch\n",
        "elastic=ElasticNet(normalize=True)\n",
        "search=GridSearchCV(estimator=elastic,param_grid={'alpha':np.logspace(-3,4,8),'l1_ratio':[.1,.3,.5,.7]},scoring='neg_mean_squared_error',n_jobs=1,refit=True,cv=10)"
      ],
      "execution_count": 45,
      "outputs": []
    },
    {
      "cell_type": "code",
      "metadata": {
        "colab": {
          "base_uri": "https://localhost:8080/"
        },
        "id": "1uYxU76EPuJH",
        "outputId": "f4bdcd7d-752b-41e7-b034-e74f09a90020"
      },
      "source": [
        "#getting the best value for the apha,l1 ratio and the score\n",
        "search.fit(X_train,y_train)\n",
        "search.best_params_\n",
        "a = abs(search.best_score_)\n",
        "np.sqrt(a)\n",
        "#the apha is 0.001 and l1 ratio is o.7\n",
        "#the rmse is 292309 which is worse than our baseline rmse"
      ],
      "execution_count": 50,
      "outputs": [
        {
          "output_type": "execute_result",
          "data": {
            "text/plain": [
              "{'alpha': 0.001, 'l1_ratio': 0.7}"
            ]
          },
          "metadata": {},
          "execution_count": 50
        }
      ]
    },
    {
      "cell_type": "code",
      "metadata": {
        "colab": {
          "base_uri": "https://localhost:8080/"
        },
        "id": "F371RAOCP3wv",
        "outputId": "ecd0a493-2dc1-4f33-fa49-546685b3be1d"
      },
      "source": [
        "#fitting the model to our data and testing it\n",
        "elastic=ElasticNet(normalize=True,alpha=0.001,l1_ratio=0.7)\n",
        "elastic.fit(X_train,y_train)\n",
        "second_model=(mean_squared_error(y_true=y,y_pred=elastic.predict(X)))\n",
        "print(second_model)\n",
        "print('rmse:',np.sqrt(metrics.mean_squared_error(y_test,elastic.predict(X_test))))\n",
        "print('R2:',metrics.r2_score(y_test,elastic.predict(X_test)))\n",
        "#the rmse is worse than the basemodel and\n",
        "#r2 is 32% which is very low meaning our model has not performed very well"
      ],
      "execution_count": 54,
      "outputs": [
        {
          "output_type": "stream",
          "name": "stdout",
          "text": [
            "89098383213.66492\n",
            "rmse: 304138.317204418\n",
            "R2: 0.32708134748470774\n"
          ]
        }
      ]
    },
    {
      "cell_type": "markdown",
      "metadata": {
        "id": "lQ2G4ZPDVOXE"
      },
      "source": [
        "## 8. Challenging the solution"
      ]
    },
    {
      "cell_type": "markdown",
      "metadata": {
        "id": "jWVGKGuiYMWg"
      },
      "source": [
        ">The baseline model was  linear regression but it had a R2 of 62% which \n",
        "was not a good accuracy so we challenge solution using quantile,lasso,ridge and net elastic.The other models did not fit our data well except for the quantile  regression at the 50th percentile which had a pseudo r square of 0.3 which is between 0.2 and 0.4 thus a good fit for our data\n",
        "\n",
        "\n",
        "\n",
        "\n"
      ]
    },
    {
      "cell_type": "markdown",
      "metadata": {
        "id": "xrmHVMVsVS--"
      },
      "source": [
        "## 9. Follow up questions"
      ]
    },
    {
      "cell_type": "markdown",
      "metadata": {
        "id": "pth2qSWhuBIy"
      },
      "source": [
        "> At this point, we can refine our question or collect new data, all in an iterative process to get at the truth.\n",
        "\n"
      ]
    },
    {
      "cell_type": "markdown",
      "metadata": {
        "id": "HPQviDmNtta8"
      },
      "source": [
        "### a). Did we have the right data?"
      ]
    },
    {
      "cell_type": "markdown",
      "metadata": {
        "id": "rgJLappYvsrq"
      },
      "source": [
        "yes we had the right data that answered our questions hence we could predict house price given the various input variables"
      ]
    },
    {
      "cell_type": "markdown",
      "metadata": {
        "id": "qjFHK1CKty7o"
      },
      "source": [
        "### b). Do we need other data to answer our question?"
      ]
    },
    {
      "cell_type": "markdown",
      "metadata": {
        "id": "qu9seH9VywSw"
      },
      "source": [
        "yes we needed more data to answer our questions especially to know the areas of the given zipcode in order to know where houses are most expensive and where least expensive"
      ]
    },
    {
      "cell_type": "markdown",
      "metadata": {
        "id": "HSsicSdvt4Zs"
      },
      "source": [
        "### c). Did we have the right question?"
      ]
    },
    {
      "cell_type": "markdown",
      "metadata": {
        "id": "WAgO-6Nm2x9d"
      },
      "source": [
        "yes we had the right questions as this model will help sellers and buyers to determine the price of house given various factors"
      ]
    }
  ]
}